{
  "nbformat": 4,
  "nbformat_minor": 0,
  "metadata": {
    "colab": {
      "name": "Exp1-c.ipynb",
      "provenance": [],
      "mount_file_id": "1UUpugsUn46gyBFxREmjY1GLmbnXToDZf",
      "authorship_tag": "ABX9TyNXpLTs/GSagcJnCsZu5zHA",
      "include_colab_link": true
    },
    "kernelspec": {
      "name": "python3",
      "display_name": "Python 3"
    },
    "language_info": {
      "name": "python"
    }
  },
  "cells": [
    {
      "cell_type": "markdown",
      "metadata": {
        "id": "view-in-github",
        "colab_type": "text"
      },
      "source": [
        "<a href=\"https://colab.research.google.com/github/aishwaryayaya/NNDL_2022/blob/main/Exp1_c.ipynb\" target=\"_parent\"><img src=\"https://colab.research.google.com/assets/colab-badge.svg\" alt=\"Open In Colab\"/></a>"
      ]
    },
    {
      "cell_type": "code",
      "source": [
        "from google.colab import drive\n",
        "drive.mount('/content/drive/')"
      ],
      "metadata": {
        "colab": {
          "base_uri": "https://localhost:8080/"
        },
        "id": "Fjg5uS_4zlZt",
        "outputId": "e672b43c-c588-44d1-8bba-2209619e57f1"
      },
      "execution_count": null,
      "outputs": [
        {
          "output_type": "stream",
          "name": "stdout",
          "text": [
            "Drive already mounted at /content/drive/; to attempt to forcibly remount, call drive.mount(\"/content/drive/\", force_remount=True).\n"
          ]
        }
      ]
    },
    {
      "cell_type": "code",
      "source": [
        "import pandas as pd\n",
        "from matplotlib import pyplot as plt\n",
        "import numpy as np\n",
        "%matplotlib inline"
      ],
      "metadata": {
        "id": "CdpWjdxg0pLl"
      },
      "execution_count": null,
      "outputs": []
    },
    {
      "cell_type": "code",
      "source": [
        "df=pd.read_csv('/content/drive/MyDrive/Data/Churn_Modelling.csv')"
      ],
      "metadata": {
        "id": "9sGoa19_0bdd"
      },
      "execution_count": null,
      "outputs": []
    },
    {
      "cell_type": "code",
      "source": [
        "df.sample(5)"
      ],
      "metadata": {
        "colab": {
          "base_uri": "https://localhost:8080/",
          "height": 250
        },
        "id": "3A3pYXsL09nS",
        "outputId": "fc79d0a2-4913-4eb2-99c7-6ec695d1e264"
      },
      "execution_count": null,
      "outputs": [
        {
          "output_type": "execute_result",
          "data": {
            "text/plain": [
              "      RowNumber  CustomerId    Surname  CreditScore Geography  Gender  Age  \\\n",
              "7129       7130    15781875   Jamieson          850     Spain    Male   33   \n",
              "9142       9143    15663312     Marino          494    France  Female   35   \n",
              "8084       8085    15736146  Afamefula          608   Germany    Male   28   \n",
              "3711       3712    15729489       Hyde          762   Germany  Female   34   \n",
              "2299       2300    15763171         Hu          650   Germany  Female   25   \n",
              "\n",
              "      Tenure    Balance  NumOfProducts  HasCrCard  IsActiveMember  \\\n",
              "7129       3  100476.46              2          1               1   \n",
              "9142       9  112727.06              2          1               0   \n",
              "8084       4   96679.71              1          1               1   \n",
              "3711       8   98592.88              1          0               1   \n",
              "2299       2  114330.95              1          1               1   \n",
              "\n",
              "      EstimatedSalary  Exited  \n",
              "7129        136539.13       0  \n",
              "9142        183752.91       0  \n",
              "8084         49133.45       0  \n",
              "3711        191790.29       1  \n",
              "2299         25325.07       0  "
            ],
            "text/html": [
              "\n",
              "  <div id=\"df-353018df-65a2-4d2f-906c-d779dfb62874\">\n",
              "    <div class=\"colab-df-container\">\n",
              "      <div>\n",
              "<style scoped>\n",
              "    .dataframe tbody tr th:only-of-type {\n",
              "        vertical-align: middle;\n",
              "    }\n",
              "\n",
              "    .dataframe tbody tr th {\n",
              "        vertical-align: top;\n",
              "    }\n",
              "\n",
              "    .dataframe thead th {\n",
              "        text-align: right;\n",
              "    }\n",
              "</style>\n",
              "<table border=\"1\" class=\"dataframe\">\n",
              "  <thead>\n",
              "    <tr style=\"text-align: right;\">\n",
              "      <th></th>\n",
              "      <th>RowNumber</th>\n",
              "      <th>CustomerId</th>\n",
              "      <th>Surname</th>\n",
              "      <th>CreditScore</th>\n",
              "      <th>Geography</th>\n",
              "      <th>Gender</th>\n",
              "      <th>Age</th>\n",
              "      <th>Tenure</th>\n",
              "      <th>Balance</th>\n",
              "      <th>NumOfProducts</th>\n",
              "      <th>HasCrCard</th>\n",
              "      <th>IsActiveMember</th>\n",
              "      <th>EstimatedSalary</th>\n",
              "      <th>Exited</th>\n",
              "    </tr>\n",
              "  </thead>\n",
              "  <tbody>\n",
              "    <tr>\n",
              "      <th>7129</th>\n",
              "      <td>7130</td>\n",
              "      <td>15781875</td>\n",
              "      <td>Jamieson</td>\n",
              "      <td>850</td>\n",
              "      <td>Spain</td>\n",
              "      <td>Male</td>\n",
              "      <td>33</td>\n",
              "      <td>3</td>\n",
              "      <td>100476.46</td>\n",
              "      <td>2</td>\n",
              "      <td>1</td>\n",
              "      <td>1</td>\n",
              "      <td>136539.13</td>\n",
              "      <td>0</td>\n",
              "    </tr>\n",
              "    <tr>\n",
              "      <th>9142</th>\n",
              "      <td>9143</td>\n",
              "      <td>15663312</td>\n",
              "      <td>Marino</td>\n",
              "      <td>494</td>\n",
              "      <td>France</td>\n",
              "      <td>Female</td>\n",
              "      <td>35</td>\n",
              "      <td>9</td>\n",
              "      <td>112727.06</td>\n",
              "      <td>2</td>\n",
              "      <td>1</td>\n",
              "      <td>0</td>\n",
              "      <td>183752.91</td>\n",
              "      <td>0</td>\n",
              "    </tr>\n",
              "    <tr>\n",
              "      <th>8084</th>\n",
              "      <td>8085</td>\n",
              "      <td>15736146</td>\n",
              "      <td>Afamefula</td>\n",
              "      <td>608</td>\n",
              "      <td>Germany</td>\n",
              "      <td>Male</td>\n",
              "      <td>28</td>\n",
              "      <td>4</td>\n",
              "      <td>96679.71</td>\n",
              "      <td>1</td>\n",
              "      <td>1</td>\n",
              "      <td>1</td>\n",
              "      <td>49133.45</td>\n",
              "      <td>0</td>\n",
              "    </tr>\n",
              "    <tr>\n",
              "      <th>3711</th>\n",
              "      <td>3712</td>\n",
              "      <td>15729489</td>\n",
              "      <td>Hyde</td>\n",
              "      <td>762</td>\n",
              "      <td>Germany</td>\n",
              "      <td>Female</td>\n",
              "      <td>34</td>\n",
              "      <td>8</td>\n",
              "      <td>98592.88</td>\n",
              "      <td>1</td>\n",
              "      <td>0</td>\n",
              "      <td>1</td>\n",
              "      <td>191790.29</td>\n",
              "      <td>1</td>\n",
              "    </tr>\n",
              "    <tr>\n",
              "      <th>2299</th>\n",
              "      <td>2300</td>\n",
              "      <td>15763171</td>\n",
              "      <td>Hu</td>\n",
              "      <td>650</td>\n",
              "      <td>Germany</td>\n",
              "      <td>Female</td>\n",
              "      <td>25</td>\n",
              "      <td>2</td>\n",
              "      <td>114330.95</td>\n",
              "      <td>1</td>\n",
              "      <td>1</td>\n",
              "      <td>1</td>\n",
              "      <td>25325.07</td>\n",
              "      <td>0</td>\n",
              "    </tr>\n",
              "  </tbody>\n",
              "</table>\n",
              "</div>\n",
              "      <button class=\"colab-df-convert\" onclick=\"convertToInteractive('df-353018df-65a2-4d2f-906c-d779dfb62874')\"\n",
              "              title=\"Convert this dataframe to an interactive table.\"\n",
              "              style=\"display:none;\">\n",
              "        \n",
              "  <svg xmlns=\"http://www.w3.org/2000/svg\" height=\"24px\"viewBox=\"0 0 24 24\"\n",
              "       width=\"24px\">\n",
              "    <path d=\"M0 0h24v24H0V0z\" fill=\"none\"/>\n",
              "    <path d=\"M18.56 5.44l.94 2.06.94-2.06 2.06-.94-2.06-.94-.94-2.06-.94 2.06-2.06.94zm-11 1L8.5 8.5l.94-2.06 2.06-.94-2.06-.94L8.5 2.5l-.94 2.06-2.06.94zm10 10l.94 2.06.94-2.06 2.06-.94-2.06-.94-.94-2.06-.94 2.06-2.06.94z\"/><path d=\"M17.41 7.96l-1.37-1.37c-.4-.4-.92-.59-1.43-.59-.52 0-1.04.2-1.43.59L10.3 9.45l-7.72 7.72c-.78.78-.78 2.05 0 2.83L4 21.41c.39.39.9.59 1.41.59.51 0 1.02-.2 1.41-.59l7.78-7.78 2.81-2.81c.8-.78.8-2.07 0-2.86zM5.41 20L4 18.59l7.72-7.72 1.47 1.35L5.41 20z\"/>\n",
              "  </svg>\n",
              "      </button>\n",
              "      \n",
              "  <style>\n",
              "    .colab-df-container {\n",
              "      display:flex;\n",
              "      flex-wrap:wrap;\n",
              "      gap: 12px;\n",
              "    }\n",
              "\n",
              "    .colab-df-convert {\n",
              "      background-color: #E8F0FE;\n",
              "      border: none;\n",
              "      border-radius: 50%;\n",
              "      cursor: pointer;\n",
              "      display: none;\n",
              "      fill: #1967D2;\n",
              "      height: 32px;\n",
              "      padding: 0 0 0 0;\n",
              "      width: 32px;\n",
              "    }\n",
              "\n",
              "    .colab-df-convert:hover {\n",
              "      background-color: #E2EBFA;\n",
              "      box-shadow: 0px 1px 2px rgba(60, 64, 67, 0.3), 0px 1px 3px 1px rgba(60, 64, 67, 0.15);\n",
              "      fill: #174EA6;\n",
              "    }\n",
              "\n",
              "    [theme=dark] .colab-df-convert {\n",
              "      background-color: #3B4455;\n",
              "      fill: #D2E3FC;\n",
              "    }\n",
              "\n",
              "    [theme=dark] .colab-df-convert:hover {\n",
              "      background-color: #434B5C;\n",
              "      box-shadow: 0px 1px 3px 1px rgba(0, 0, 0, 0.15);\n",
              "      filter: drop-shadow(0px 1px 2px rgba(0, 0, 0, 0.3));\n",
              "      fill: #FFFFFF;\n",
              "    }\n",
              "  </style>\n",
              "\n",
              "      <script>\n",
              "        const buttonEl =\n",
              "          document.querySelector('#df-353018df-65a2-4d2f-906c-d779dfb62874 button.colab-df-convert');\n",
              "        buttonEl.style.display =\n",
              "          google.colab.kernel.accessAllowed ? 'block' : 'none';\n",
              "\n",
              "        async function convertToInteractive(key) {\n",
              "          const element = document.querySelector('#df-353018df-65a2-4d2f-906c-d779dfb62874');\n",
              "          const dataTable =\n",
              "            await google.colab.kernel.invokeFunction('convertToInteractive',\n",
              "                                                     [key], {});\n",
              "          if (!dataTable) return;\n",
              "\n",
              "          const docLinkHtml = 'Like what you see? Visit the ' +\n",
              "            '<a target=\"_blank\" href=https://colab.research.google.com/notebooks/data_table.ipynb>data table notebook</a>'\n",
              "            + ' to learn more about interactive tables.';\n",
              "          element.innerHTML = '';\n",
              "          dataTable['output_type'] = 'display_data';\n",
              "          await google.colab.output.renderOutput(dataTable, element);\n",
              "          const docLink = document.createElement('div');\n",
              "          docLink.innerHTML = docLinkHtml;\n",
              "          element.appendChild(docLink);\n",
              "        }\n",
              "      </script>\n",
              "    </div>\n",
              "  </div>\n",
              "  "
            ]
          },
          "metadata": {},
          "execution_count": 19
        }
      ]
    },
    {
      "cell_type": "code",
      "source": [
        "df.dtypes"
      ],
      "metadata": {
        "colab": {
          "base_uri": "https://localhost:8080/"
        },
        "id": "cOSqfNs91AUO",
        "outputId": "5f7e7925-7ea4-4a80-d1c5-a3e8697e3840"
      },
      "execution_count": null,
      "outputs": [
        {
          "output_type": "execute_result",
          "data": {
            "text/plain": [
              "RowNumber            int64\n",
              "CustomerId           int64\n",
              "Surname             object\n",
              "CreditScore          int64\n",
              "Geography           object\n",
              "Gender              object\n",
              "Age                  int64\n",
              "Tenure               int64\n",
              "Balance            float64\n",
              "NumOfProducts        int64\n",
              "HasCrCard            int64\n",
              "IsActiveMember       int64\n",
              "EstimatedSalary    float64\n",
              "Exited               int64\n",
              "dtype: object"
            ]
          },
          "metadata": {},
          "execution_count": 20
        }
      ]
    },
    {
      "cell_type": "code",
      "source": [
        "df.drop(['RowNumber','Surname','CustomerId'],axis='columns',inplace=True)"
      ],
      "metadata": {
        "id": "IvIUxaaX1HH1"
      },
      "execution_count": null,
      "outputs": []
    },
    {
      "cell_type": "code",
      "source": [
        "df.sample(5)"
      ],
      "metadata": {
        "colab": {
          "base_uri": "https://localhost:8080/",
          "height": 206
        },
        "id": "sQXCS2BC1V_a",
        "outputId": "3c4b7bfa-8830-4b28-b586-0dacdb5836f0"
      },
      "execution_count": null,
      "outputs": [
        {
          "output_type": "execute_result",
          "data": {
            "text/plain": [
              "      CreditScore Geography  Gender  Age  Tenure    Balance  NumOfProducts  \\\n",
              "406           538     Spain  Female   49       9  141434.04              1   \n",
              "53            655   Germany    Male   41       8  125561.97              1   \n",
              "3908          655     Spain    Male   37       1       0.00              1   \n",
              "3897          508   Germany  Female   41       5   82161.70              2   \n",
              "4563          705   Germany  Female   64       3  153469.26              3   \n",
              "\n",
              "      HasCrCard  IsActiveMember  EstimatedSalary  Exited  \n",
              "406           0               0        173779.25       1  \n",
              "53            0               0        164040.94       1  \n",
              "3908          1               1        106040.97       0  \n",
              "3897          1               0        187776.49       0  \n",
              "4563          0               0        146573.66       1  "
            ],
            "text/html": [
              "\n",
              "  <div id=\"df-a0527817-39a0-4b56-8f23-1bf0a93b1ca5\">\n",
              "    <div class=\"colab-df-container\">\n",
              "      <div>\n",
              "<style scoped>\n",
              "    .dataframe tbody tr th:only-of-type {\n",
              "        vertical-align: middle;\n",
              "    }\n",
              "\n",
              "    .dataframe tbody tr th {\n",
              "        vertical-align: top;\n",
              "    }\n",
              "\n",
              "    .dataframe thead th {\n",
              "        text-align: right;\n",
              "    }\n",
              "</style>\n",
              "<table border=\"1\" class=\"dataframe\">\n",
              "  <thead>\n",
              "    <tr style=\"text-align: right;\">\n",
              "      <th></th>\n",
              "      <th>CreditScore</th>\n",
              "      <th>Geography</th>\n",
              "      <th>Gender</th>\n",
              "      <th>Age</th>\n",
              "      <th>Tenure</th>\n",
              "      <th>Balance</th>\n",
              "      <th>NumOfProducts</th>\n",
              "      <th>HasCrCard</th>\n",
              "      <th>IsActiveMember</th>\n",
              "      <th>EstimatedSalary</th>\n",
              "      <th>Exited</th>\n",
              "    </tr>\n",
              "  </thead>\n",
              "  <tbody>\n",
              "    <tr>\n",
              "      <th>406</th>\n",
              "      <td>538</td>\n",
              "      <td>Spain</td>\n",
              "      <td>Female</td>\n",
              "      <td>49</td>\n",
              "      <td>9</td>\n",
              "      <td>141434.04</td>\n",
              "      <td>1</td>\n",
              "      <td>0</td>\n",
              "      <td>0</td>\n",
              "      <td>173779.25</td>\n",
              "      <td>1</td>\n",
              "    </tr>\n",
              "    <tr>\n",
              "      <th>53</th>\n",
              "      <td>655</td>\n",
              "      <td>Germany</td>\n",
              "      <td>Male</td>\n",
              "      <td>41</td>\n",
              "      <td>8</td>\n",
              "      <td>125561.97</td>\n",
              "      <td>1</td>\n",
              "      <td>0</td>\n",
              "      <td>0</td>\n",
              "      <td>164040.94</td>\n",
              "      <td>1</td>\n",
              "    </tr>\n",
              "    <tr>\n",
              "      <th>3908</th>\n",
              "      <td>655</td>\n",
              "      <td>Spain</td>\n",
              "      <td>Male</td>\n",
              "      <td>37</td>\n",
              "      <td>1</td>\n",
              "      <td>0.00</td>\n",
              "      <td>1</td>\n",
              "      <td>1</td>\n",
              "      <td>1</td>\n",
              "      <td>106040.97</td>\n",
              "      <td>0</td>\n",
              "    </tr>\n",
              "    <tr>\n",
              "      <th>3897</th>\n",
              "      <td>508</td>\n",
              "      <td>Germany</td>\n",
              "      <td>Female</td>\n",
              "      <td>41</td>\n",
              "      <td>5</td>\n",
              "      <td>82161.70</td>\n",
              "      <td>2</td>\n",
              "      <td>1</td>\n",
              "      <td>0</td>\n",
              "      <td>187776.49</td>\n",
              "      <td>0</td>\n",
              "    </tr>\n",
              "    <tr>\n",
              "      <th>4563</th>\n",
              "      <td>705</td>\n",
              "      <td>Germany</td>\n",
              "      <td>Female</td>\n",
              "      <td>64</td>\n",
              "      <td>3</td>\n",
              "      <td>153469.26</td>\n",
              "      <td>3</td>\n",
              "      <td>0</td>\n",
              "      <td>0</td>\n",
              "      <td>146573.66</td>\n",
              "      <td>1</td>\n",
              "    </tr>\n",
              "  </tbody>\n",
              "</table>\n",
              "</div>\n",
              "      <button class=\"colab-df-convert\" onclick=\"convertToInteractive('df-a0527817-39a0-4b56-8f23-1bf0a93b1ca5')\"\n",
              "              title=\"Convert this dataframe to an interactive table.\"\n",
              "              style=\"display:none;\">\n",
              "        \n",
              "  <svg xmlns=\"http://www.w3.org/2000/svg\" height=\"24px\"viewBox=\"0 0 24 24\"\n",
              "       width=\"24px\">\n",
              "    <path d=\"M0 0h24v24H0V0z\" fill=\"none\"/>\n",
              "    <path d=\"M18.56 5.44l.94 2.06.94-2.06 2.06-.94-2.06-.94-.94-2.06-.94 2.06-2.06.94zm-11 1L8.5 8.5l.94-2.06 2.06-.94-2.06-.94L8.5 2.5l-.94 2.06-2.06.94zm10 10l.94 2.06.94-2.06 2.06-.94-2.06-.94-.94-2.06-.94 2.06-2.06.94z\"/><path d=\"M17.41 7.96l-1.37-1.37c-.4-.4-.92-.59-1.43-.59-.52 0-1.04.2-1.43.59L10.3 9.45l-7.72 7.72c-.78.78-.78 2.05 0 2.83L4 21.41c.39.39.9.59 1.41.59.51 0 1.02-.2 1.41-.59l7.78-7.78 2.81-2.81c.8-.78.8-2.07 0-2.86zM5.41 20L4 18.59l7.72-7.72 1.47 1.35L5.41 20z\"/>\n",
              "  </svg>\n",
              "      </button>\n",
              "      \n",
              "  <style>\n",
              "    .colab-df-container {\n",
              "      display:flex;\n",
              "      flex-wrap:wrap;\n",
              "      gap: 12px;\n",
              "    }\n",
              "\n",
              "    .colab-df-convert {\n",
              "      background-color: #E8F0FE;\n",
              "      border: none;\n",
              "      border-radius: 50%;\n",
              "      cursor: pointer;\n",
              "      display: none;\n",
              "      fill: #1967D2;\n",
              "      height: 32px;\n",
              "      padding: 0 0 0 0;\n",
              "      width: 32px;\n",
              "    }\n",
              "\n",
              "    .colab-df-convert:hover {\n",
              "      background-color: #E2EBFA;\n",
              "      box-shadow: 0px 1px 2px rgba(60, 64, 67, 0.3), 0px 1px 3px 1px rgba(60, 64, 67, 0.15);\n",
              "      fill: #174EA6;\n",
              "    }\n",
              "\n",
              "    [theme=dark] .colab-df-convert {\n",
              "      background-color: #3B4455;\n",
              "      fill: #D2E3FC;\n",
              "    }\n",
              "\n",
              "    [theme=dark] .colab-df-convert:hover {\n",
              "      background-color: #434B5C;\n",
              "      box-shadow: 0px 1px 3px 1px rgba(0, 0, 0, 0.15);\n",
              "      filter: drop-shadow(0px 1px 2px rgba(0, 0, 0, 0.3));\n",
              "      fill: #FFFFFF;\n",
              "    }\n",
              "  </style>\n",
              "\n",
              "      <script>\n",
              "        const buttonEl =\n",
              "          document.querySelector('#df-a0527817-39a0-4b56-8f23-1bf0a93b1ca5 button.colab-df-convert');\n",
              "        buttonEl.style.display =\n",
              "          google.colab.kernel.accessAllowed ? 'block' : 'none';\n",
              "\n",
              "        async function convertToInteractive(key) {\n",
              "          const element = document.querySelector('#df-a0527817-39a0-4b56-8f23-1bf0a93b1ca5');\n",
              "          const dataTable =\n",
              "            await google.colab.kernel.invokeFunction('convertToInteractive',\n",
              "                                                     [key], {});\n",
              "          if (!dataTable) return;\n",
              "\n",
              "          const docLinkHtml = 'Like what you see? Visit the ' +\n",
              "            '<a target=\"_blank\" href=https://colab.research.google.com/notebooks/data_table.ipynb>data table notebook</a>'\n",
              "            + ' to learn more about interactive tables.';\n",
              "          element.innerHTML = '';\n",
              "          dataTable['output_type'] = 'display_data';\n",
              "          await google.colab.output.renderOutput(dataTable, element);\n",
              "          const docLink = document.createElement('div');\n",
              "          docLink.innerHTML = docLinkHtml;\n",
              "          element.appendChild(docLink);\n",
              "        }\n",
              "      </script>\n",
              "    </div>\n",
              "  </div>\n",
              "  "
            ]
          },
          "metadata": {},
          "execution_count": 22
        }
      ]
    },
    {
      "cell_type": "code",
      "source": [
        "df.replace({'Male':1,'Female':0},inplace=True)"
      ],
      "metadata": {
        "id": "olJWYqRC1i05"
      },
      "execution_count": null,
      "outputs": []
    },
    {
      "cell_type": "code",
      "source": [
        "df.sample(5)"
      ],
      "metadata": {
        "colab": {
          "base_uri": "https://localhost:8080/",
          "height": 206
        },
        "id": "X49rBDo02drU",
        "outputId": "d26d91ea-8f49-4cd4-d5df-92232a23205c"
      },
      "execution_count": null,
      "outputs": [
        {
          "output_type": "execute_result",
          "data": {
            "text/plain": [
              "      CreditScore Geography  Gender  Age  Tenure   Balance  NumOfProducts  \\\n",
              "8928          623    France       0   29       1      0.00              2   \n",
              "5335          651    France       0   39       8      0.00              1   \n",
              "1911          595    France       1   41       9      0.00              2   \n",
              "190           715    France       0   41       8  56214.85              2   \n",
              "3985          691    France       1   24       6      0.00              2   \n",
              "\n",
              "      HasCrCard  IsActiveMember  EstimatedSalary  Exited  \n",
              "8928          0               0         39382.06       0  \n",
              "5335          1               0        137452.57       0  \n",
              "1911          1               0          5967.09       0  \n",
              "190           0               0         92982.61       1  \n",
              "3985          1               1         92811.20       0  "
            ],
            "text/html": [
              "\n",
              "  <div id=\"df-5f4239e9-b49f-4b3f-a3c9-877c17dd9f1e\">\n",
              "    <div class=\"colab-df-container\">\n",
              "      <div>\n",
              "<style scoped>\n",
              "    .dataframe tbody tr th:only-of-type {\n",
              "        vertical-align: middle;\n",
              "    }\n",
              "\n",
              "    .dataframe tbody tr th {\n",
              "        vertical-align: top;\n",
              "    }\n",
              "\n",
              "    .dataframe thead th {\n",
              "        text-align: right;\n",
              "    }\n",
              "</style>\n",
              "<table border=\"1\" class=\"dataframe\">\n",
              "  <thead>\n",
              "    <tr style=\"text-align: right;\">\n",
              "      <th></th>\n",
              "      <th>CreditScore</th>\n",
              "      <th>Geography</th>\n",
              "      <th>Gender</th>\n",
              "      <th>Age</th>\n",
              "      <th>Tenure</th>\n",
              "      <th>Balance</th>\n",
              "      <th>NumOfProducts</th>\n",
              "      <th>HasCrCard</th>\n",
              "      <th>IsActiveMember</th>\n",
              "      <th>EstimatedSalary</th>\n",
              "      <th>Exited</th>\n",
              "    </tr>\n",
              "  </thead>\n",
              "  <tbody>\n",
              "    <tr>\n",
              "      <th>8928</th>\n",
              "      <td>623</td>\n",
              "      <td>France</td>\n",
              "      <td>0</td>\n",
              "      <td>29</td>\n",
              "      <td>1</td>\n",
              "      <td>0.00</td>\n",
              "      <td>2</td>\n",
              "      <td>0</td>\n",
              "      <td>0</td>\n",
              "      <td>39382.06</td>\n",
              "      <td>0</td>\n",
              "    </tr>\n",
              "    <tr>\n",
              "      <th>5335</th>\n",
              "      <td>651</td>\n",
              "      <td>France</td>\n",
              "      <td>0</td>\n",
              "      <td>39</td>\n",
              "      <td>8</td>\n",
              "      <td>0.00</td>\n",
              "      <td>1</td>\n",
              "      <td>1</td>\n",
              "      <td>0</td>\n",
              "      <td>137452.57</td>\n",
              "      <td>0</td>\n",
              "    </tr>\n",
              "    <tr>\n",
              "      <th>1911</th>\n",
              "      <td>595</td>\n",
              "      <td>France</td>\n",
              "      <td>1</td>\n",
              "      <td>41</td>\n",
              "      <td>9</td>\n",
              "      <td>0.00</td>\n",
              "      <td>2</td>\n",
              "      <td>1</td>\n",
              "      <td>0</td>\n",
              "      <td>5967.09</td>\n",
              "      <td>0</td>\n",
              "    </tr>\n",
              "    <tr>\n",
              "      <th>190</th>\n",
              "      <td>715</td>\n",
              "      <td>France</td>\n",
              "      <td>0</td>\n",
              "      <td>41</td>\n",
              "      <td>8</td>\n",
              "      <td>56214.85</td>\n",
              "      <td>2</td>\n",
              "      <td>0</td>\n",
              "      <td>0</td>\n",
              "      <td>92982.61</td>\n",
              "      <td>1</td>\n",
              "    </tr>\n",
              "    <tr>\n",
              "      <th>3985</th>\n",
              "      <td>691</td>\n",
              "      <td>France</td>\n",
              "      <td>1</td>\n",
              "      <td>24</td>\n",
              "      <td>6</td>\n",
              "      <td>0.00</td>\n",
              "      <td>2</td>\n",
              "      <td>1</td>\n",
              "      <td>1</td>\n",
              "      <td>92811.20</td>\n",
              "      <td>0</td>\n",
              "    </tr>\n",
              "  </tbody>\n",
              "</table>\n",
              "</div>\n",
              "      <button class=\"colab-df-convert\" onclick=\"convertToInteractive('df-5f4239e9-b49f-4b3f-a3c9-877c17dd9f1e')\"\n",
              "              title=\"Convert this dataframe to an interactive table.\"\n",
              "              style=\"display:none;\">\n",
              "        \n",
              "  <svg xmlns=\"http://www.w3.org/2000/svg\" height=\"24px\"viewBox=\"0 0 24 24\"\n",
              "       width=\"24px\">\n",
              "    <path d=\"M0 0h24v24H0V0z\" fill=\"none\"/>\n",
              "    <path d=\"M18.56 5.44l.94 2.06.94-2.06 2.06-.94-2.06-.94-.94-2.06-.94 2.06-2.06.94zm-11 1L8.5 8.5l.94-2.06 2.06-.94-2.06-.94L8.5 2.5l-.94 2.06-2.06.94zm10 10l.94 2.06.94-2.06 2.06-.94-2.06-.94-.94-2.06-.94 2.06-2.06.94z\"/><path d=\"M17.41 7.96l-1.37-1.37c-.4-.4-.92-.59-1.43-.59-.52 0-1.04.2-1.43.59L10.3 9.45l-7.72 7.72c-.78.78-.78 2.05 0 2.83L4 21.41c.39.39.9.59 1.41.59.51 0 1.02-.2 1.41-.59l7.78-7.78 2.81-2.81c.8-.78.8-2.07 0-2.86zM5.41 20L4 18.59l7.72-7.72 1.47 1.35L5.41 20z\"/>\n",
              "  </svg>\n",
              "      </button>\n",
              "      \n",
              "  <style>\n",
              "    .colab-df-container {\n",
              "      display:flex;\n",
              "      flex-wrap:wrap;\n",
              "      gap: 12px;\n",
              "    }\n",
              "\n",
              "    .colab-df-convert {\n",
              "      background-color: #E8F0FE;\n",
              "      border: none;\n",
              "      border-radius: 50%;\n",
              "      cursor: pointer;\n",
              "      display: none;\n",
              "      fill: #1967D2;\n",
              "      height: 32px;\n",
              "      padding: 0 0 0 0;\n",
              "      width: 32px;\n",
              "    }\n",
              "\n",
              "    .colab-df-convert:hover {\n",
              "      background-color: #E2EBFA;\n",
              "      box-shadow: 0px 1px 2px rgba(60, 64, 67, 0.3), 0px 1px 3px 1px rgba(60, 64, 67, 0.15);\n",
              "      fill: #174EA6;\n",
              "    }\n",
              "\n",
              "    [theme=dark] .colab-df-convert {\n",
              "      background-color: #3B4455;\n",
              "      fill: #D2E3FC;\n",
              "    }\n",
              "\n",
              "    [theme=dark] .colab-df-convert:hover {\n",
              "      background-color: #434B5C;\n",
              "      box-shadow: 0px 1px 3px 1px rgba(0, 0, 0, 0.15);\n",
              "      filter: drop-shadow(0px 1px 2px rgba(0, 0, 0, 0.3));\n",
              "      fill: #FFFFFF;\n",
              "    }\n",
              "  </style>\n",
              "\n",
              "      <script>\n",
              "        const buttonEl =\n",
              "          document.querySelector('#df-5f4239e9-b49f-4b3f-a3c9-877c17dd9f1e button.colab-df-convert');\n",
              "        buttonEl.style.display =\n",
              "          google.colab.kernel.accessAllowed ? 'block' : 'none';\n",
              "\n",
              "        async function convertToInteractive(key) {\n",
              "          const element = document.querySelector('#df-5f4239e9-b49f-4b3f-a3c9-877c17dd9f1e');\n",
              "          const dataTable =\n",
              "            await google.colab.kernel.invokeFunction('convertToInteractive',\n",
              "                                                     [key], {});\n",
              "          if (!dataTable) return;\n",
              "\n",
              "          const docLinkHtml = 'Like what you see? Visit the ' +\n",
              "            '<a target=\"_blank\" href=https://colab.research.google.com/notebooks/data_table.ipynb>data table notebook</a>'\n",
              "            + ' to learn more about interactive tables.';\n",
              "          element.innerHTML = '';\n",
              "          dataTable['output_type'] = 'display_data';\n",
              "          await google.colab.output.renderOutput(dataTable, element);\n",
              "          const docLink = document.createElement('div');\n",
              "          docLink.innerHTML = docLinkHtml;\n",
              "          element.appendChild(docLink);\n",
              "        }\n",
              "      </script>\n",
              "    </div>\n",
              "  </div>\n",
              "  "
            ]
          },
          "metadata": {},
          "execution_count": 24
        }
      ]
    },
    {
      "cell_type": "code",
      "source": [
        "df1=pd.get_dummies(data=df,columns=['Geography'])"
      ],
      "metadata": {
        "id": "EiAXef7V2g8Y"
      },
      "execution_count": null,
      "outputs": []
    },
    {
      "cell_type": "code",
      "source": [
        "df1.dtypes"
      ],
      "metadata": {
        "colab": {
          "base_uri": "https://localhost:8080/"
        },
        "id": "fwDJRoJU2sNf",
        "outputId": "4ba7d3ae-5cec-4bc3-a0c5-ab430aba7d8a"
      },
      "execution_count": null,
      "outputs": [
        {
          "output_type": "execute_result",
          "data": {
            "text/plain": [
              "CreditScore            int64\n",
              "Gender                 int64\n",
              "Age                    int64\n",
              "Tenure                 int64\n",
              "Balance              float64\n",
              "NumOfProducts          int64\n",
              "HasCrCard              int64\n",
              "IsActiveMember         int64\n",
              "EstimatedSalary      float64\n",
              "Exited                 int64\n",
              "Geography_France       uint8\n",
              "Geography_Germany      uint8\n",
              "Geography_Spain        uint8\n",
              "dtype: object"
            ]
          },
          "metadata": {},
          "execution_count": 26
        }
      ]
    },
    {
      "cell_type": "code",
      "source": [
        "df1.sample(5)"
      ],
      "metadata": {
        "colab": {
          "base_uri": "https://localhost:8080/",
          "height": 270
        },
        "id": "yeGHWwEz221T",
        "outputId": "3b0d8303-6685-4b46-c525-c8c0a9f6ba2b"
      },
      "execution_count": null,
      "outputs": [
        {
          "output_type": "execute_result",
          "data": {
            "text/plain": [
              "      CreditScore  Gender  Age  Tenure   Balance  NumOfProducts  HasCrCard  \\\n",
              "8445          683       0   26       7      0.00              2          1   \n",
              "3660          494       1   27       2      0.00              2          1   \n",
              "9109          681       1   33      10      0.00              1          0   \n",
              "7933          782       0   70       7  97072.42              1          0   \n",
              "667           503       1   29       3      0.00              2          1   \n",
              "\n",
              "      IsActiveMember  EstimatedSalary  Exited  Geography_France  \\\n",
              "8445               0         86619.77       0                 1   \n",
              "3660               0         22404.64       0                 0   \n",
              "9109               0        158336.36       0                 0   \n",
              "7933               1        131177.22       0                 1   \n",
              "667                1        143954.99       0                 1   \n",
              "\n",
              "      Geography_Germany  Geography_Spain  \n",
              "8445                  0                0  \n",
              "3660                  0                1  \n",
              "9109                  0                1  \n",
              "7933                  0                0  \n",
              "667                   0                0  "
            ],
            "text/html": [
              "\n",
              "  <div id=\"df-96eb07e5-a6a2-44b4-bd6a-9259e239c959\">\n",
              "    <div class=\"colab-df-container\">\n",
              "      <div>\n",
              "<style scoped>\n",
              "    .dataframe tbody tr th:only-of-type {\n",
              "        vertical-align: middle;\n",
              "    }\n",
              "\n",
              "    .dataframe tbody tr th {\n",
              "        vertical-align: top;\n",
              "    }\n",
              "\n",
              "    .dataframe thead th {\n",
              "        text-align: right;\n",
              "    }\n",
              "</style>\n",
              "<table border=\"1\" class=\"dataframe\">\n",
              "  <thead>\n",
              "    <tr style=\"text-align: right;\">\n",
              "      <th></th>\n",
              "      <th>CreditScore</th>\n",
              "      <th>Gender</th>\n",
              "      <th>Age</th>\n",
              "      <th>Tenure</th>\n",
              "      <th>Balance</th>\n",
              "      <th>NumOfProducts</th>\n",
              "      <th>HasCrCard</th>\n",
              "      <th>IsActiveMember</th>\n",
              "      <th>EstimatedSalary</th>\n",
              "      <th>Exited</th>\n",
              "      <th>Geography_France</th>\n",
              "      <th>Geography_Germany</th>\n",
              "      <th>Geography_Spain</th>\n",
              "    </tr>\n",
              "  </thead>\n",
              "  <tbody>\n",
              "    <tr>\n",
              "      <th>8445</th>\n",
              "      <td>683</td>\n",
              "      <td>0</td>\n",
              "      <td>26</td>\n",
              "      <td>7</td>\n",
              "      <td>0.00</td>\n",
              "      <td>2</td>\n",
              "      <td>1</td>\n",
              "      <td>0</td>\n",
              "      <td>86619.77</td>\n",
              "      <td>0</td>\n",
              "      <td>1</td>\n",
              "      <td>0</td>\n",
              "      <td>0</td>\n",
              "    </tr>\n",
              "    <tr>\n",
              "      <th>3660</th>\n",
              "      <td>494</td>\n",
              "      <td>1</td>\n",
              "      <td>27</td>\n",
              "      <td>2</td>\n",
              "      <td>0.00</td>\n",
              "      <td>2</td>\n",
              "      <td>1</td>\n",
              "      <td>0</td>\n",
              "      <td>22404.64</td>\n",
              "      <td>0</td>\n",
              "      <td>0</td>\n",
              "      <td>0</td>\n",
              "      <td>1</td>\n",
              "    </tr>\n",
              "    <tr>\n",
              "      <th>9109</th>\n",
              "      <td>681</td>\n",
              "      <td>1</td>\n",
              "      <td>33</td>\n",
              "      <td>10</td>\n",
              "      <td>0.00</td>\n",
              "      <td>1</td>\n",
              "      <td>0</td>\n",
              "      <td>0</td>\n",
              "      <td>158336.36</td>\n",
              "      <td>0</td>\n",
              "      <td>0</td>\n",
              "      <td>0</td>\n",
              "      <td>1</td>\n",
              "    </tr>\n",
              "    <tr>\n",
              "      <th>7933</th>\n",
              "      <td>782</td>\n",
              "      <td>0</td>\n",
              "      <td>70</td>\n",
              "      <td>7</td>\n",
              "      <td>97072.42</td>\n",
              "      <td>1</td>\n",
              "      <td>0</td>\n",
              "      <td>1</td>\n",
              "      <td>131177.22</td>\n",
              "      <td>0</td>\n",
              "      <td>1</td>\n",
              "      <td>0</td>\n",
              "      <td>0</td>\n",
              "    </tr>\n",
              "    <tr>\n",
              "      <th>667</th>\n",
              "      <td>503</td>\n",
              "      <td>1</td>\n",
              "      <td>29</td>\n",
              "      <td>3</td>\n",
              "      <td>0.00</td>\n",
              "      <td>2</td>\n",
              "      <td>1</td>\n",
              "      <td>1</td>\n",
              "      <td>143954.99</td>\n",
              "      <td>0</td>\n",
              "      <td>1</td>\n",
              "      <td>0</td>\n",
              "      <td>0</td>\n",
              "    </tr>\n",
              "  </tbody>\n",
              "</table>\n",
              "</div>\n",
              "      <button class=\"colab-df-convert\" onclick=\"convertToInteractive('df-96eb07e5-a6a2-44b4-bd6a-9259e239c959')\"\n",
              "              title=\"Convert this dataframe to an interactive table.\"\n",
              "              style=\"display:none;\">\n",
              "        \n",
              "  <svg xmlns=\"http://www.w3.org/2000/svg\" height=\"24px\"viewBox=\"0 0 24 24\"\n",
              "       width=\"24px\">\n",
              "    <path d=\"M0 0h24v24H0V0z\" fill=\"none\"/>\n",
              "    <path d=\"M18.56 5.44l.94 2.06.94-2.06 2.06-.94-2.06-.94-.94-2.06-.94 2.06-2.06.94zm-11 1L8.5 8.5l.94-2.06 2.06-.94-2.06-.94L8.5 2.5l-.94 2.06-2.06.94zm10 10l.94 2.06.94-2.06 2.06-.94-2.06-.94-.94-2.06-.94 2.06-2.06.94z\"/><path d=\"M17.41 7.96l-1.37-1.37c-.4-.4-.92-.59-1.43-.59-.52 0-1.04.2-1.43.59L10.3 9.45l-7.72 7.72c-.78.78-.78 2.05 0 2.83L4 21.41c.39.39.9.59 1.41.59.51 0 1.02-.2 1.41-.59l7.78-7.78 2.81-2.81c.8-.78.8-2.07 0-2.86zM5.41 20L4 18.59l7.72-7.72 1.47 1.35L5.41 20z\"/>\n",
              "  </svg>\n",
              "      </button>\n",
              "      \n",
              "  <style>\n",
              "    .colab-df-container {\n",
              "      display:flex;\n",
              "      flex-wrap:wrap;\n",
              "      gap: 12px;\n",
              "    }\n",
              "\n",
              "    .colab-df-convert {\n",
              "      background-color: #E8F0FE;\n",
              "      border: none;\n",
              "      border-radius: 50%;\n",
              "      cursor: pointer;\n",
              "      display: none;\n",
              "      fill: #1967D2;\n",
              "      height: 32px;\n",
              "      padding: 0 0 0 0;\n",
              "      width: 32px;\n",
              "    }\n",
              "\n",
              "    .colab-df-convert:hover {\n",
              "      background-color: #E2EBFA;\n",
              "      box-shadow: 0px 1px 2px rgba(60, 64, 67, 0.3), 0px 1px 3px 1px rgba(60, 64, 67, 0.15);\n",
              "      fill: #174EA6;\n",
              "    }\n",
              "\n",
              "    [theme=dark] .colab-df-convert {\n",
              "      background-color: #3B4455;\n",
              "      fill: #D2E3FC;\n",
              "    }\n",
              "\n",
              "    [theme=dark] .colab-df-convert:hover {\n",
              "      background-color: #434B5C;\n",
              "      box-shadow: 0px 1px 3px 1px rgba(0, 0, 0, 0.15);\n",
              "      filter: drop-shadow(0px 1px 2px rgba(0, 0, 0, 0.3));\n",
              "      fill: #FFFFFF;\n",
              "    }\n",
              "  </style>\n",
              "\n",
              "      <script>\n",
              "        const buttonEl =\n",
              "          document.querySelector('#df-96eb07e5-a6a2-44b4-bd6a-9259e239c959 button.colab-df-convert');\n",
              "        buttonEl.style.display =\n",
              "          google.colab.kernel.accessAllowed ? 'block' : 'none';\n",
              "\n",
              "        async function convertToInteractive(key) {\n",
              "          const element = document.querySelector('#df-96eb07e5-a6a2-44b4-bd6a-9259e239c959');\n",
              "          const dataTable =\n",
              "            await google.colab.kernel.invokeFunction('convertToInteractive',\n",
              "                                                     [key], {});\n",
              "          if (!dataTable) return;\n",
              "\n",
              "          const docLinkHtml = 'Like what you see? Visit the ' +\n",
              "            '<a target=\"_blank\" href=https://colab.research.google.com/notebooks/data_table.ipynb>data table notebook</a>'\n",
              "            + ' to learn more about interactive tables.';\n",
              "          element.innerHTML = '';\n",
              "          dataTable['output_type'] = 'display_data';\n",
              "          await google.colab.output.renderOutput(dataTable, element);\n",
              "          const docLink = document.createElement('div');\n",
              "          docLink.innerHTML = docLinkHtml;\n",
              "          element.appendChild(docLink);\n",
              "        }\n",
              "      </script>\n",
              "    </div>\n",
              "  </div>\n",
              "  "
            ]
          },
          "metadata": {},
          "execution_count": 27
        }
      ]
    },
    {
      "cell_type": "code",
      "source": [
        "df1[df1.Exited==1]"
      ],
      "metadata": {
        "colab": {
          "base_uri": "https://localhost:8080/",
          "height": 488
        },
        "id": "y43sjTfq3I-q",
        "outputId": "0d9be14b-31b3-41a1-f154-16664a3449a4"
      },
      "execution_count": null,
      "outputs": [
        {
          "output_type": "execute_result",
          "data": {
            "text/plain": [
              "      CreditScore  Gender  Age  Tenure    Balance  NumOfProducts  HasCrCard  \\\n",
              "0             619       0   42       2       0.00              1          1   \n",
              "2             502       0   42       8  159660.80              3          1   \n",
              "5             645       1   44       8  113755.78              2          1   \n",
              "7             376       0   29       4  115046.74              4          1   \n",
              "16            653       1   58       1  132602.88              1          1   \n",
              "...           ...     ...  ...     ...        ...            ...        ...   \n",
              "9981          498       1   42       3  152039.70              1          1   \n",
              "9982          655       0   46       7  137145.12              1          1   \n",
              "9991          597       0   53       4   88381.21              1          1   \n",
              "9997          709       0   36       7       0.00              1          0   \n",
              "9998          772       1   42       3   75075.31              2          1   \n",
              "\n",
              "      IsActiveMember  EstimatedSalary  Exited  Geography_France  \\\n",
              "0                  1        101348.88       1                 1   \n",
              "2                  0        113931.57       1                 1   \n",
              "5                  0        149756.71       1                 0   \n",
              "7                  0        119346.88       1                 0   \n",
              "16                 0          5097.67       1                 0   \n",
              "...              ...              ...     ...               ...   \n",
              "9981               1         53445.17       1                 0   \n",
              "9982               0        115146.40       1                 0   \n",
              "9991               0         69384.71       1                 1   \n",
              "9997               1         42085.58       1                 1   \n",
              "9998               0         92888.52       1                 0   \n",
              "\n",
              "      Geography_Germany  Geography_Spain  \n",
              "0                     0                0  \n",
              "2                     0                0  \n",
              "5                     0                1  \n",
              "7                     1                0  \n",
              "16                    1                0  \n",
              "...                 ...              ...  \n",
              "9981                  1                0  \n",
              "9982                  1                0  \n",
              "9991                  0                0  \n",
              "9997                  0                0  \n",
              "9998                  1                0  \n",
              "\n",
              "[2037 rows x 13 columns]"
            ],
            "text/html": [
              "\n",
              "  <div id=\"df-1df146aa-8097-4f0b-8eb5-cdc5d8d869f6\">\n",
              "    <div class=\"colab-df-container\">\n",
              "      <div>\n",
              "<style scoped>\n",
              "    .dataframe tbody tr th:only-of-type {\n",
              "        vertical-align: middle;\n",
              "    }\n",
              "\n",
              "    .dataframe tbody tr th {\n",
              "        vertical-align: top;\n",
              "    }\n",
              "\n",
              "    .dataframe thead th {\n",
              "        text-align: right;\n",
              "    }\n",
              "</style>\n",
              "<table border=\"1\" class=\"dataframe\">\n",
              "  <thead>\n",
              "    <tr style=\"text-align: right;\">\n",
              "      <th></th>\n",
              "      <th>CreditScore</th>\n",
              "      <th>Gender</th>\n",
              "      <th>Age</th>\n",
              "      <th>Tenure</th>\n",
              "      <th>Balance</th>\n",
              "      <th>NumOfProducts</th>\n",
              "      <th>HasCrCard</th>\n",
              "      <th>IsActiveMember</th>\n",
              "      <th>EstimatedSalary</th>\n",
              "      <th>Exited</th>\n",
              "      <th>Geography_France</th>\n",
              "      <th>Geography_Germany</th>\n",
              "      <th>Geography_Spain</th>\n",
              "    </tr>\n",
              "  </thead>\n",
              "  <tbody>\n",
              "    <tr>\n",
              "      <th>0</th>\n",
              "      <td>619</td>\n",
              "      <td>0</td>\n",
              "      <td>42</td>\n",
              "      <td>2</td>\n",
              "      <td>0.00</td>\n",
              "      <td>1</td>\n",
              "      <td>1</td>\n",
              "      <td>1</td>\n",
              "      <td>101348.88</td>\n",
              "      <td>1</td>\n",
              "      <td>1</td>\n",
              "      <td>0</td>\n",
              "      <td>0</td>\n",
              "    </tr>\n",
              "    <tr>\n",
              "      <th>2</th>\n",
              "      <td>502</td>\n",
              "      <td>0</td>\n",
              "      <td>42</td>\n",
              "      <td>8</td>\n",
              "      <td>159660.80</td>\n",
              "      <td>3</td>\n",
              "      <td>1</td>\n",
              "      <td>0</td>\n",
              "      <td>113931.57</td>\n",
              "      <td>1</td>\n",
              "      <td>1</td>\n",
              "      <td>0</td>\n",
              "      <td>0</td>\n",
              "    </tr>\n",
              "    <tr>\n",
              "      <th>5</th>\n",
              "      <td>645</td>\n",
              "      <td>1</td>\n",
              "      <td>44</td>\n",
              "      <td>8</td>\n",
              "      <td>113755.78</td>\n",
              "      <td>2</td>\n",
              "      <td>1</td>\n",
              "      <td>0</td>\n",
              "      <td>149756.71</td>\n",
              "      <td>1</td>\n",
              "      <td>0</td>\n",
              "      <td>0</td>\n",
              "      <td>1</td>\n",
              "    </tr>\n",
              "    <tr>\n",
              "      <th>7</th>\n",
              "      <td>376</td>\n",
              "      <td>0</td>\n",
              "      <td>29</td>\n",
              "      <td>4</td>\n",
              "      <td>115046.74</td>\n",
              "      <td>4</td>\n",
              "      <td>1</td>\n",
              "      <td>0</td>\n",
              "      <td>119346.88</td>\n",
              "      <td>1</td>\n",
              "      <td>0</td>\n",
              "      <td>1</td>\n",
              "      <td>0</td>\n",
              "    </tr>\n",
              "    <tr>\n",
              "      <th>16</th>\n",
              "      <td>653</td>\n",
              "      <td>1</td>\n",
              "      <td>58</td>\n",
              "      <td>1</td>\n",
              "      <td>132602.88</td>\n",
              "      <td>1</td>\n",
              "      <td>1</td>\n",
              "      <td>0</td>\n",
              "      <td>5097.67</td>\n",
              "      <td>1</td>\n",
              "      <td>0</td>\n",
              "      <td>1</td>\n",
              "      <td>0</td>\n",
              "    </tr>\n",
              "    <tr>\n",
              "      <th>...</th>\n",
              "      <td>...</td>\n",
              "      <td>...</td>\n",
              "      <td>...</td>\n",
              "      <td>...</td>\n",
              "      <td>...</td>\n",
              "      <td>...</td>\n",
              "      <td>...</td>\n",
              "      <td>...</td>\n",
              "      <td>...</td>\n",
              "      <td>...</td>\n",
              "      <td>...</td>\n",
              "      <td>...</td>\n",
              "      <td>...</td>\n",
              "    </tr>\n",
              "    <tr>\n",
              "      <th>9981</th>\n",
              "      <td>498</td>\n",
              "      <td>1</td>\n",
              "      <td>42</td>\n",
              "      <td>3</td>\n",
              "      <td>152039.70</td>\n",
              "      <td>1</td>\n",
              "      <td>1</td>\n",
              "      <td>1</td>\n",
              "      <td>53445.17</td>\n",
              "      <td>1</td>\n",
              "      <td>0</td>\n",
              "      <td>1</td>\n",
              "      <td>0</td>\n",
              "    </tr>\n",
              "    <tr>\n",
              "      <th>9982</th>\n",
              "      <td>655</td>\n",
              "      <td>0</td>\n",
              "      <td>46</td>\n",
              "      <td>7</td>\n",
              "      <td>137145.12</td>\n",
              "      <td>1</td>\n",
              "      <td>1</td>\n",
              "      <td>0</td>\n",
              "      <td>115146.40</td>\n",
              "      <td>1</td>\n",
              "      <td>0</td>\n",
              "      <td>1</td>\n",
              "      <td>0</td>\n",
              "    </tr>\n",
              "    <tr>\n",
              "      <th>9991</th>\n",
              "      <td>597</td>\n",
              "      <td>0</td>\n",
              "      <td>53</td>\n",
              "      <td>4</td>\n",
              "      <td>88381.21</td>\n",
              "      <td>1</td>\n",
              "      <td>1</td>\n",
              "      <td>0</td>\n",
              "      <td>69384.71</td>\n",
              "      <td>1</td>\n",
              "      <td>1</td>\n",
              "      <td>0</td>\n",
              "      <td>0</td>\n",
              "    </tr>\n",
              "    <tr>\n",
              "      <th>9997</th>\n",
              "      <td>709</td>\n",
              "      <td>0</td>\n",
              "      <td>36</td>\n",
              "      <td>7</td>\n",
              "      <td>0.00</td>\n",
              "      <td>1</td>\n",
              "      <td>0</td>\n",
              "      <td>1</td>\n",
              "      <td>42085.58</td>\n",
              "      <td>1</td>\n",
              "      <td>1</td>\n",
              "      <td>0</td>\n",
              "      <td>0</td>\n",
              "    </tr>\n",
              "    <tr>\n",
              "      <th>9998</th>\n",
              "      <td>772</td>\n",
              "      <td>1</td>\n",
              "      <td>42</td>\n",
              "      <td>3</td>\n",
              "      <td>75075.31</td>\n",
              "      <td>2</td>\n",
              "      <td>1</td>\n",
              "      <td>0</td>\n",
              "      <td>92888.52</td>\n",
              "      <td>1</td>\n",
              "      <td>0</td>\n",
              "      <td>1</td>\n",
              "      <td>0</td>\n",
              "    </tr>\n",
              "  </tbody>\n",
              "</table>\n",
              "<p>2037 rows × 13 columns</p>\n",
              "</div>\n",
              "      <button class=\"colab-df-convert\" onclick=\"convertToInteractive('df-1df146aa-8097-4f0b-8eb5-cdc5d8d869f6')\"\n",
              "              title=\"Convert this dataframe to an interactive table.\"\n",
              "              style=\"display:none;\">\n",
              "        \n",
              "  <svg xmlns=\"http://www.w3.org/2000/svg\" height=\"24px\"viewBox=\"0 0 24 24\"\n",
              "       width=\"24px\">\n",
              "    <path d=\"M0 0h24v24H0V0z\" fill=\"none\"/>\n",
              "    <path d=\"M18.56 5.44l.94 2.06.94-2.06 2.06-.94-2.06-.94-.94-2.06-.94 2.06-2.06.94zm-11 1L8.5 8.5l.94-2.06 2.06-.94-2.06-.94L8.5 2.5l-.94 2.06-2.06.94zm10 10l.94 2.06.94-2.06 2.06-.94-2.06-.94-.94-2.06-.94 2.06-2.06.94z\"/><path d=\"M17.41 7.96l-1.37-1.37c-.4-.4-.92-.59-1.43-.59-.52 0-1.04.2-1.43.59L10.3 9.45l-7.72 7.72c-.78.78-.78 2.05 0 2.83L4 21.41c.39.39.9.59 1.41.59.51 0 1.02-.2 1.41-.59l7.78-7.78 2.81-2.81c.8-.78.8-2.07 0-2.86zM5.41 20L4 18.59l7.72-7.72 1.47 1.35L5.41 20z\"/>\n",
              "  </svg>\n",
              "      </button>\n",
              "      \n",
              "  <style>\n",
              "    .colab-df-container {\n",
              "      display:flex;\n",
              "      flex-wrap:wrap;\n",
              "      gap: 12px;\n",
              "    }\n",
              "\n",
              "    .colab-df-convert {\n",
              "      background-color: #E8F0FE;\n",
              "      border: none;\n",
              "      border-radius: 50%;\n",
              "      cursor: pointer;\n",
              "      display: none;\n",
              "      fill: #1967D2;\n",
              "      height: 32px;\n",
              "      padding: 0 0 0 0;\n",
              "      width: 32px;\n",
              "    }\n",
              "\n",
              "    .colab-df-convert:hover {\n",
              "      background-color: #E2EBFA;\n",
              "      box-shadow: 0px 1px 2px rgba(60, 64, 67, 0.3), 0px 1px 3px 1px rgba(60, 64, 67, 0.15);\n",
              "      fill: #174EA6;\n",
              "    }\n",
              "\n",
              "    [theme=dark] .colab-df-convert {\n",
              "      background-color: #3B4455;\n",
              "      fill: #D2E3FC;\n",
              "    }\n",
              "\n",
              "    [theme=dark] .colab-df-convert:hover {\n",
              "      background-color: #434B5C;\n",
              "      box-shadow: 0px 1px 3px 1px rgba(0, 0, 0, 0.15);\n",
              "      filter: drop-shadow(0px 1px 2px rgba(0, 0, 0, 0.3));\n",
              "      fill: #FFFFFF;\n",
              "    }\n",
              "  </style>\n",
              "\n",
              "      <script>\n",
              "        const buttonEl =\n",
              "          document.querySelector('#df-1df146aa-8097-4f0b-8eb5-cdc5d8d869f6 button.colab-df-convert');\n",
              "        buttonEl.style.display =\n",
              "          google.colab.kernel.accessAllowed ? 'block' : 'none';\n",
              "\n",
              "        async function convertToInteractive(key) {\n",
              "          const element = document.querySelector('#df-1df146aa-8097-4f0b-8eb5-cdc5d8d869f6');\n",
              "          const dataTable =\n",
              "            await google.colab.kernel.invokeFunction('convertToInteractive',\n",
              "                                                     [key], {});\n",
              "          if (!dataTable) return;\n",
              "\n",
              "          const docLinkHtml = 'Like what you see? Visit the ' +\n",
              "            '<a target=\"_blank\" href=https://colab.research.google.com/notebooks/data_table.ipynb>data table notebook</a>'\n",
              "            + ' to learn more about interactive tables.';\n",
              "          element.innerHTML = '';\n",
              "          dataTable['output_type'] = 'display_data';\n",
              "          await google.colab.output.renderOutput(dataTable, element);\n",
              "          const docLink = document.createElement('div');\n",
              "          docLink.innerHTML = docLinkHtml;\n",
              "          element.appendChild(docLink);\n",
              "        }\n",
              "      </script>\n",
              "    </div>\n",
              "  </div>\n",
              "  "
            ]
          },
          "metadata": {},
          "execution_count": 28
        }
      ]
    },
    {
      "cell_type": "code",
      "source": [
        "tenure_exit_no=df1[df1.Exited==1].Tenure\n",
        "tenure_exit_yes=df1[df1.Exited==0].Tenure\n",
        "\n",
        "plt.xlabel(\"Tenure\")\n",
        "plt.ylabel(\"No.of customers\")\n",
        "plt.title(\"Bank coustomer exited visulaization \")\n",
        "\n",
        "plt.hist([tenure_exit_no,tenure_exit_yes],color=['green','red'],label=['Exited=No','Exited=Yes'])\n",
        "plt.legend()"
      ],
      "metadata": {
        "colab": {
          "base_uri": "https://localhost:8080/",
          "height": 402
        },
        "id": "Y1WrYfAn3bTu",
        "outputId": "8d9813d9-71c0-43c0-a953-a528c30736fd"
      },
      "execution_count": null,
      "outputs": [
        {
          "output_type": "stream",
          "name": "stderr",
          "text": [
            "/usr/local/lib/python3.7/dist-packages/numpy/core/fromnumeric.py:3208: VisibleDeprecationWarning: Creating an ndarray from ragged nested sequences (which is a list-or-tuple of lists-or-tuples-or ndarrays with different lengths or shapes) is deprecated. If you meant to do this, you must specify 'dtype=object' when creating the ndarray.\n",
            "  return asarray(a).size\n",
            "/usr/local/lib/python3.7/dist-packages/matplotlib/cbook/__init__.py:1376: VisibleDeprecationWarning: Creating an ndarray from ragged nested sequences (which is a list-or-tuple of lists-or-tuples-or ndarrays with different lengths or shapes) is deprecated. If you meant to do this, you must specify 'dtype=object' when creating the ndarray.\n",
            "  X = np.atleast_1d(X.T if isinstance(X, np.ndarray) else np.asarray(X))\n"
          ]
        },
        {
          "output_type": "execute_result",
          "data": {
            "text/plain": [
              "<matplotlib.legend.Legend at 0x7f106bb7fd10>"
            ]
          },
          "metadata": {},
          "execution_count": 30
        },
        {
          "output_type": "display_data",
          "data": {
            "text/plain": [
              "<Figure size 432x288 with 1 Axes>"
            ],
            "image/png": "[encoded data removed]"
          },
          "metadata": {
            "needs_background": "light"
          }
        }
      ]
    },
    {
      "cell_type": "code",
      "source": [
        "age_exit_no=df1[df1.Exited==1].Age\n",
        "age_exit_yes=df1[df1.Exited==0].Age\n",
        "\n",
        "plt.xlabel('Age')\n",
        "plt.ylabel('No of cutomers')\n",
        "plt.title('Bank exit prediction basd on age')\n",
        "\n",
        "plt.hist([age_exit_no,age_exit_yes],color=['green','red'],label=['Exited=Yes','Exited=No'])\n",
        "plt.legend()"
      ],
      "metadata": {
        "colab": {
          "base_uri": "https://localhost:8080/",
          "height": 402
        },
        "id": "umZcvm7P3YQ4",
        "outputId": "daae71fc-69ea-4b17-ae80-5fac529ee674"
      },
      "execution_count": null,
      "outputs": [
        {
          "output_type": "stream",
          "name": "stderr",
          "text": [
            "/usr/local/lib/python3.7/dist-packages/numpy/core/fromnumeric.py:3208: VisibleDeprecationWarning: Creating an ndarray from ragged nested sequences (which is a list-or-tuple of lists-or-tuples-or ndarrays with different lengths or shapes) is deprecated. If you meant to do this, you must specify 'dtype=object' when creating the ndarray.\n",
            "  return asarray(a).size\n",
            "/usr/local/lib/python3.7/dist-packages/matplotlib/cbook/__init__.py:1376: VisibleDeprecationWarning: Creating an ndarray from ragged nested sequences (which is a list-or-tuple of lists-or-tuples-or ndarrays with different lengths or shapes) is deprecated. If you meant to do this, you must specify 'dtype=object' when creating the ndarray.\n",
            "  X = np.atleast_1d(X.T if isinstance(X, np.ndarray) else np.asarray(X))\n"
          ]
        },
        {
          "output_type": "execute_result",
          "data": {
            "text/plain": [
              "<matplotlib.legend.Legend at 0x7f1069a9f210>"
            ]
          },
          "metadata": {},
          "execution_count": 31
        },
        {
          "output_type": "display_data",
          "data": {
            "text/plain": [
              "<Figure size 432x288 with 1 Axes>"
            ],
            "image/png": "[encoded data removed]"
          },
          "metadata": {
            "needs_background": "light"
          }
        }
      ]
    },
    {
      "cell_type": "code",
      "source": [
        "products_exit_no=df1[df1.Exited==1].NumOfProducts\n",
        "products_exit_yes=df1[df1.Exited==0].NumOfProducts\n",
        "\n",
        "plt.xlabel('No Of products')\n",
        "plt.ylabel('No of cutomers')\n",
        "plt.title('Bank exit prediction basd on No of products')\n",
        "\n",
        "plt.hist([products_exit_no,products_exit_yes],color=['green','red'],label=['Exited=Yes','Exited=No'])\n",
        "plt.legend()"
      ],
      "metadata": {
        "colab": {
          "base_uri": "https://localhost:8080/",
          "height": 402
        },
        "id": "eS6ED41hPvB9",
        "outputId": "18d2b1be-9cba-47a2-ecaf-184ac28269e7"
      },
      "execution_count": null,
      "outputs": [
        {
          "output_type": "stream",
          "name": "stderr",
          "text": [
            "/usr/local/lib/python3.7/dist-packages/numpy/core/fromnumeric.py:3208: VisibleDeprecationWarning: Creating an ndarray from ragged nested sequences (which is a list-or-tuple of lists-or-tuples-or ndarrays with different lengths or shapes) is deprecated. If you meant to do this, you must specify 'dtype=object' when creating the ndarray.\n",
            "  return asarray(a).size\n",
            "/usr/local/lib/python3.7/dist-packages/matplotlib/cbook/__init__.py:1376: VisibleDeprecationWarning: Creating an ndarray from ragged nested sequences (which is a list-or-tuple of lists-or-tuples-or ndarrays with different lengths or shapes) is deprecated. If you meant to do this, you must specify 'dtype=object' when creating the ndarray.\n",
            "  X = np.atleast_1d(X.T if isinstance(X, np.ndarray) else np.asarray(X))\n"
          ]
        },
        {
          "output_type": "execute_result",
          "data": {
            "text/plain": [
              "<matplotlib.legend.Legend at 0x7f106984c310>"
            ]
          },
          "metadata": {},
          "execution_count": 32
        },
        {
          "output_type": "display_data",
          "data": {
            "text/plain": [
              "<Figure size 432x288 with 1 Axes>"
            ],
            "image/png": "[encoded data removed]"
          },
          "metadata": {
            "needs_background": "light"
          }
        }
      ]
    },
    {
      "cell_type": "code",
      "source": [
        "cols_to_scale=['CreditScore','Age','Tenure','Balance','NumOfProducts','EstimatedSalary']"
      ],
      "metadata": {
        "id": "N2Y56j64QSgA"
      },
      "execution_count": null,
      "outputs": []
    },
    {
      "cell_type": "code",
      "source": [
        "from sklearn.preprocessing import MinMaxScaler\n",
        "scaler=MinMaxScaler()\n",
        "df1[cols_to_scale]=scaler.fit_transform(df1[cols_to_scale])"
      ],
      "metadata": {
        "id": "rKRvricQRBQY"
      },
      "execution_count": null,
      "outputs": []
    },
    {
      "cell_type": "code",
      "source": [
        "df1.sample(5)"
      ],
      "metadata": {
        "colab": {
          "base_uri": "https://localhost:8080/",
          "height": 270
        },
        "id": "f9ZdWPUbRm0F",
        "outputId": "e3d266b5-ec00-431a-e7b6-c4b3c938dbb7"
      },
      "execution_count": null,
      "outputs": [
        {
          "output_type": "execute_result",
          "data": {
            "text/plain": [
              "      CreditScore  Gender       Age  Tenure   Balance  NumOfProducts  \\\n",
              "3057        0.660       1  0.202703     0.1  0.490566       0.000000   \n",
              "1363        0.850       1  0.162162     0.4  0.000000       0.333333   \n",
              "5295        0.712       0  0.148649     0.6  0.739521       0.000000   \n",
              "3275        0.616       1  0.094595     0.3  0.000000       0.333333   \n",
              "586         0.542       1  0.472973     0.9  0.679526       0.000000   \n",
              "\n",
              "      HasCrCard  IsActiveMember  EstimatedSalary  Exited  Geography_France  \\\n",
              "3057          1               0         0.674811       0                 1   \n",
              "1363          0               1         0.287275       0                 0   \n",
              "5295          1               0         0.855212       0                 0   \n",
              "3275          0               1         0.869767       0                 1   \n",
              "586           1               0         0.177899       1                 0   \n",
              "\n",
              "      Geography_Germany  Geography_Spain  \n",
              "3057                  0                0  \n",
              "1363                  0                1  \n",
              "5295                  1                0  \n",
              "3275                  0                0  \n",
              "586                   0                1  "
            ],
            "text/html": [
              "\n",
              "  <div id=\"df-4d47e55a-9934-4931-b39f-9ea6867dc786\">\n",
              "    <div class=\"colab-df-container\">\n",
              "      <div>\n",
              "<style scoped>\n",
              "    .dataframe tbody tr th:only-of-type {\n",
              "        vertical-align: middle;\n",
              "    }\n",
              "\n",
              "    .dataframe tbody tr th {\n",
              "        vertical-align: top;\n",
              "    }\n",
              "\n",
              "    .dataframe thead th {\n",
              "        text-align: right;\n",
              "    }\n",
              "</style>\n",
              "<table border=\"1\" class=\"dataframe\">\n",
              "  <thead>\n",
              "    <tr style=\"text-align: right;\">\n",
              "      <th></th>\n",
              "      <th>CreditScore</th>\n",
              "      <th>Gender</th>\n",
              "      <th>Age</th>\n",
              "      <th>Tenure</th>\n",
              "      <th>Balance</th>\n",
              "      <th>NumOfProducts</th>\n",
              "      <th>HasCrCard</th>\n",
              "      <th>IsActiveMember</th>\n",
              "      <th>EstimatedSalary</th>\n",
              "      <th>Exited</th>\n",
              "      <th>Geography_France</th>\n",
              "      <th>Geography_Germany</th>\n",
              "      <th>Geography_Spain</th>\n",
              "    </tr>\n",
              "  </thead>\n",
              "  <tbody>\n",
              "    <tr>\n",
              "      <th>3057</th>\n",
              "      <td>0.660</td>\n",
              "      <td>1</td>\n",
              "      <td>0.202703</td>\n",
              "      <td>0.1</td>\n",
              "      <td>0.490566</td>\n",
              "      <td>0.000000</td>\n",
              "      <td>1</td>\n",
              "      <td>0</td>\n",
              "      <td>0.674811</td>\n",
              "      <td>0</td>\n",
              "      <td>1</td>\n",
              "      <td>0</td>\n",
              "      <td>0</td>\n",
              "    </tr>\n",
              "    <tr>\n",
              "      <th>1363</th>\n",
              "      <td>0.850</td>\n",
              "      <td>1</td>\n",
              "      <td>0.162162</td>\n",
              "      <td>0.4</td>\n",
              "      <td>0.000000</td>\n",
              "      <td>0.333333</td>\n",
              "      <td>0</td>\n",
              "      <td>1</td>\n",
              "      <td>0.287275</td>\n",
              "      <td>0</td>\n",
              "      <td>0</td>\n",
              "      <td>0</td>\n",
              "      <td>1</td>\n",
              "    </tr>\n",
              "    <tr>\n",
              "      <th>5295</th>\n",
              "      <td>0.712</td>\n",
              "      <td>0</td>\n",
              "      <td>0.148649</td>\n",
              "      <td>0.6</td>\n",
              "      <td>0.739521</td>\n",
              "      <td>0.000000</td>\n",
              "      <td>1</td>\n",
              "      <td>0</td>\n",
              "      <td>0.855212</td>\n",
              "      <td>0</td>\n",
              "      <td>0</td>\n",
              "      <td>1</td>\n",
              "      <td>0</td>\n",
              "    </tr>\n",
              "    <tr>\n",
              "      <th>3275</th>\n",
              "      <td>0.616</td>\n",
              "      <td>1</td>\n",
              "      <td>0.094595</td>\n",
              "      <td>0.3</td>\n",
              "      <td>0.000000</td>\n",
              "      <td>0.333333</td>\n",
              "      <td>0</td>\n",
              "      <td>1</td>\n",
              "      <td>0.869767</td>\n",
              "      <td>0</td>\n",
              "      <td>1</td>\n",
              "      <td>0</td>\n",
              "      <td>0</td>\n",
              "    </tr>\n",
              "    <tr>\n",
              "      <th>586</th>\n",
              "      <td>0.542</td>\n",
              "      <td>1</td>\n",
              "      <td>0.472973</td>\n",
              "      <td>0.9</td>\n",
              "      <td>0.679526</td>\n",
              "      <td>0.000000</td>\n",
              "      <td>1</td>\n",
              "      <td>0</td>\n",
              "      <td>0.177899</td>\n",
              "      <td>1</td>\n",
              "      <td>0</td>\n",
              "      <td>0</td>\n",
              "      <td>1</td>\n",
              "    </tr>\n",
              "  </tbody>\n",
              "</table>\n",
              "</div>\n",
              "      <button class=\"colab-df-convert\" onclick=\"convertToInteractive('df-4d47e55a-9934-4931-b39f-9ea6867dc786')\"\n",
              "              title=\"Convert this dataframe to an interactive table.\"\n",
              "              style=\"display:none;\">\n",
              "        \n",
              "  <svg xmlns=\"http://www.w3.org/2000/svg\" height=\"24px\"viewBox=\"0 0 24 24\"\n",
              "       width=\"24px\">\n",
              "    <path d=\"M0 0h24v24H0V0z\" fill=\"none\"/>\n",
              "    <path d=\"M18.56 5.44l.94 2.06.94-2.06 2.06-.94-2.06-.94-.94-2.06-.94 2.06-2.06.94zm-11 1L8.5 8.5l.94-2.06 2.06-.94-2.06-.94L8.5 2.5l-.94 2.06-2.06.94zm10 10l.94 2.06.94-2.06 2.06-.94-2.06-.94-.94-2.06-.94 2.06-2.06.94z\"/><path d=\"M17.41 7.96l-1.37-1.37c-.4-.4-.92-.59-1.43-.59-.52 0-1.04.2-1.43.59L10.3 9.45l-7.72 7.72c-.78.78-.78 2.05 0 2.83L4 21.41c.39.39.9.59 1.41.59.51 0 1.02-.2 1.41-.59l7.78-7.78 2.81-2.81c.8-.78.8-2.07 0-2.86zM5.41 20L4 18.59l7.72-7.72 1.47 1.35L5.41 20z\"/>\n",
              "  </svg>\n",
              "      </button>\n",
              "      \n",
              "  <style>\n",
              "    .colab-df-container {\n",
              "      display:flex;\n",
              "      flex-wrap:wrap;\n",
              "      gap: 12px;\n",
              "    }\n",
              "\n",
              "    .colab-df-convert {\n",
              "      background-color: #E8F0FE;\n",
              "      border: none;\n",
              "      border-radius: 50%;\n",
              "      cursor: pointer;\n",
              "      display: none;\n",
              "      fill: #1967D2;\n",
              "      height: 32px;\n",
              "      padding: 0 0 0 0;\n",
              "      width: 32px;\n",
              "    }\n",
              "\n",
              "    .colab-df-convert:hover {\n",
              "      background-color: #E2EBFA;\n",
              "      box-shadow: 0px 1px 2px rgba(60, 64, 67, 0.3), 0px 1px 3px 1px rgba(60, 64, 67, 0.15);\n",
              "      fill: #174EA6;\n",
              "    }\n",
              "\n",
              "    [theme=dark] .colab-df-convert {\n",
              "      background-color: #3B4455;\n",
              "      fill: #D2E3FC;\n",
              "    }\n",
              "\n",
              "    [theme=dark] .colab-df-convert:hover {\n",
              "      background-color: #434B5C;\n",
              "      box-shadow: 0px 1px 3px 1px rgba(0, 0, 0, 0.15);\n",
              "      filter: drop-shadow(0px 1px 2px rgba(0, 0, 0, 0.3));\n",
              "      fill: #FFFFFF;\n",
              "    }\n",
              "  </style>\n",
              "\n",
              "      <script>\n",
              "        const buttonEl =\n",
              "          document.querySelector('#df-4d47e55a-9934-4931-b39f-9ea6867dc786 button.colab-df-convert');\n",
              "        buttonEl.style.display =\n",
              "          google.colab.kernel.accessAllowed ? 'block' : 'none';\n",
              "\n",
              "        async function convertToInteractive(key) {\n",
              "          const element = document.querySelector('#df-4d47e55a-9934-4931-b39f-9ea6867dc786');\n",
              "          const dataTable =\n",
              "            await google.colab.kernel.invokeFunction('convertToInteractive',\n",
              "                                                     [key], {});\n",
              "          if (!dataTable) return;\n",
              "\n",
              "          const docLinkHtml = 'Like what you see? Visit the ' +\n",
              "            '<a target=\"_blank\" href=https://colab.research.google.com/notebooks/data_table.ipynb>data table notebook</a>'\n",
              "            + ' to learn more about interactive tables.';\n",
              "          element.innerHTML = '';\n",
              "          dataTable['output_type'] = 'display_data';\n",
              "          await google.colab.output.renderOutput(dataTable, element);\n",
              "          const docLink = document.createElement('div');\n",
              "          docLink.innerHTML = docLinkHtml;\n",
              "          element.appendChild(docLink);\n",
              "        }\n",
              "      </script>\n",
              "    </div>\n",
              "  </div>\n",
              "  "
            ]
          },
          "metadata": {},
          "execution_count": 35
        }
      ]
    },
    {
      "cell_type": "code",
      "source": [
        "X=df1.drop('Exited',axis='columns')\n",
        "Y=df1['Exited']"
      ],
      "metadata": {
        "id": "cbyWR4HzRp7B"
      },
      "execution_count": null,
      "outputs": []
    },
    {
      "cell_type": "code",
      "source": [
        "from sklearn.model_selection import train_test_split\n",
        "X_train,X_test,Y_train,Y_test=train_test_split(X,Y,test_size=0.3,random_state=10)"
      ],
      "metadata": {
        "id": "8IEhefvNSDXX"
      },
      "execution_count": null,
      "outputs": []
    },
    {
      "cell_type": "code",
      "source": [
        "X_train.shape"
      ],
      "metadata": {
        "colab": {
          "base_uri": "https://localhost:8080/"
        },
        "id": "GwsFW5JeTsTL",
        "outputId": "48ebe927-8bbd-414c-c1e1-d2dfbe9f73be"
      },
      "execution_count": null,
      "outputs": [
        {
          "output_type": "execute_result",
          "data": {
            "text/plain": [
              "(7000, 12)"
            ]
          },
          "metadata": {},
          "execution_count": 39
        }
      ]
    },
    {
      "cell_type": "code",
      "source": [
        "Y_train.shape\n"
      ],
      "metadata": {
        "colab": {
          "base_uri": "https://localhost:8080/"
        },
        "id": "aJFVAMC02Vdl",
        "outputId": "6e2a86e8-9435-4712-ae62-61c12786b7de"
      },
      "execution_count": null,
      "outputs": [
        {
          "output_type": "execute_result",
          "data": {
            "text/plain": [
              "(7000,)"
            ]
          },
          "metadata": {},
          "execution_count": 40
        }
      ]
    },
    {
      "cell_type": "code",
      "source": [
        "X_test.shape"
      ],
      "metadata": {
        "colab": {
          "base_uri": "https://localhost:8080/"
        },
        "id": "jxBUFfVRT6_G",
        "outputId": "15532e49-f52c-4b2e-d2e3-1fb70c871b82"
      },
      "execution_count": null,
      "outputs": [
        {
          "output_type": "execute_result",
          "data": {
            "text/plain": [
              "(3000, 12)"
            ]
          },
          "metadata": {},
          "execution_count": 41
        }
      ]
    },
    {
      "cell_type": "code",
      "source": [
        "len(X_train.columns)"
      ],
      "metadata": {
        "colab": {
          "base_uri": "https://localhost:8080/"
        },
        "id": "DfaffwkvV3on",
        "outputId": "bbab0313-c686-40bb-e23c-550a29bbf795"
      },
      "execution_count": null,
      "outputs": [
        {
          "output_type": "execute_result",
          "data": {
            "text/plain": [
              "12"
            ]
          },
          "metadata": {},
          "execution_count": 42
        }
      ]
    },
    {
      "cell_type": "code",
      "source": [
        "import tensorflow as tf\n",
        "from tensorflow import keras\n",
        "\n",
        "model=keras.Sequential([\n",
        "      keras.layers.Dense(12,input_shape=(12,),activation='relu'),\n",
        "      keras.layers.Dense(10,activation='relu'),\n",
        "      keras.layers.Dense(1,activation='sigmoid')\n",
        "])\n",
        "\n",
        "model.compile(\n",
        "    optimizer='adam',\n",
        "    loss='binary_crossentropy',\n",
        "    metrics=['accuracy']\n",
        ")\n",
        "\n",
        "model.fit(X_train,Y_train,epochs=100)"
      ],
      "metadata": {
        "colab": {
          "base_uri": "https://localhost:8080/"
        },
        "id": "zcKNaz99T-0g",
        "outputId": "9f768027-728c-40b5-b5e8-775ed7237287"
      },
      "execution_count": null,
      "outputs": [
        {
          "output_type": "stream",
          "name": "stdout",
          "text": [
            "Epoch 1/100\n",
            "219/219 [==============================] - 2s 4ms/step - loss: 0.4937 - accuracy: 0.7877\n",
            "Epoch 2/100\n",
            "219/219 [==============================] - 1s 4ms/step - loss: 0.4548 - accuracy: 0.7990\n",
            "Epoch 3/100\n",
            "219/219 [==============================] - 1s 4ms/step - loss: 0.4422 - accuracy: 0.8057\n",
            "Epoch 4/100\n",
            "219/219 [==============================] - 1s 4ms/step - loss: 0.4308 - accuracy: 0.8121\n",
            "Epoch 5/100\n",
            "219/219 [==============================] - 1s 4ms/step - loss: 0.4192 - accuracy: 0.8187\n",
            "Epoch 6/100\n",
            "219/219 [==============================] - 1s 4ms/step - loss: 0.4074 - accuracy: 0.8244\n",
            "Epoch 7/100\n",
            "219/219 [==============================] - 1s 4ms/step - loss: 0.3948 - accuracy: 0.8310\n",
            "Epoch 8/100\n",
            "219/219 [==============================] - 1s 4ms/step - loss: 0.3835 - accuracy: 0.8350\n",
            "Epoch 9/100\n",
            "219/219 [==============================] - 1s 4ms/step - loss: 0.3738 - accuracy: 0.8424\n",
            "Epoch 10/100\n",
            "219/219 [==============================] - 1s 4ms/step - loss: 0.3669 - accuracy: 0.8444\n",
            "Epoch 11/100\n",
            "219/219 [==============================] - 1s 4ms/step - loss: 0.3619 - accuracy: 0.8460\n",
            "Epoch 12/100\n",
            "219/219 [==============================] - 1s 3ms/step - loss: 0.3583 - accuracy: 0.8469\n",
            "Epoch 13/100\n",
            "219/219 [==============================] - 1s 4ms/step - loss: 0.3557 - accuracy: 0.8481\n",
            "Epoch 14/100\n",
            "219/219 [==============================] - 1s 4ms/step - loss: 0.3538 - accuracy: 0.8516\n",
            "Epoch 15/100\n",
            "219/219 [==============================] - 1s 3ms/step - loss: 0.3520 - accuracy: 0.8493\n",
            "Epoch 16/100\n",
            "219/219 [==============================] - 1s 5ms/step - loss: 0.3514 - accuracy: 0.8500\n",
            "Epoch 17/100\n",
            "219/219 [==============================] - 1s 4ms/step - loss: 0.3506 - accuracy: 0.8524\n",
            "Epoch 18/100\n",
            "219/219 [==============================] - 1s 4ms/step - loss: 0.3493 - accuracy: 0.8497\n",
            "Epoch 19/100\n",
            "219/219 [==============================] - 1s 4ms/step - loss: 0.3482 - accuracy: 0.8516\n",
            "Epoch 20/100\n",
            "219/219 [==============================] - 1s 4ms/step - loss: 0.3473 - accuracy: 0.8533\n",
            "Epoch 21/100\n",
            "219/219 [==============================] - 1s 4ms/step - loss: 0.3473 - accuracy: 0.8534\n",
            "Epoch 22/100\n",
            "219/219 [==============================] - 1s 3ms/step - loss: 0.3452 - accuracy: 0.8543\n",
            "Epoch 23/100\n",
            "219/219 [==============================] - 1s 3ms/step - loss: 0.3455 - accuracy: 0.8569\n",
            "Epoch 24/100\n",
            "219/219 [==============================] - 1s 4ms/step - loss: 0.3438 - accuracy: 0.8571\n",
            "Epoch 25/100\n",
            "219/219 [==============================] - 1s 4ms/step - loss: 0.3434 - accuracy: 0.8553\n",
            "Epoch 26/100\n",
            "219/219 [==============================] - 1s 4ms/step - loss: 0.3430 - accuracy: 0.8556\n",
            "Epoch 27/100\n",
            "219/219 [==============================] - 1s 4ms/step - loss: 0.3418 - accuracy: 0.8563\n",
            "Epoch 28/100\n",
            "219/219 [==============================] - 1s 4ms/step - loss: 0.3412 - accuracy: 0.8577\n",
            "Epoch 29/100\n",
            "219/219 [==============================] - 1s 3ms/step - loss: 0.3412 - accuracy: 0.8587\n",
            "Epoch 30/100\n",
            "219/219 [==============================] - 1s 3ms/step - loss: 0.3407 - accuracy: 0.8577\n",
            "Epoch 31/100\n",
            "219/219 [==============================] - 1s 3ms/step - loss: 0.3406 - accuracy: 0.8580\n",
            "Epoch 32/100\n",
            "219/219 [==============================] - 1s 3ms/step - loss: 0.3395 - accuracy: 0.8593\n",
            "Epoch 33/100\n",
            "219/219 [==============================] - 1s 4ms/step - loss: 0.3389 - accuracy: 0.8614\n",
            "Epoch 34/100\n",
            "219/219 [==============================] - 1s 4ms/step - loss: 0.3388 - accuracy: 0.8606\n",
            "Epoch 35/100\n",
            "219/219 [==============================] - 1s 4ms/step - loss: 0.3386 - accuracy: 0.8610\n",
            "Epoch 36/100\n",
            "219/219 [==============================] - 1s 4ms/step - loss: 0.3377 - accuracy: 0.8614\n",
            "Epoch 37/100\n",
            "219/219 [==============================] - 0s 2ms/step - loss: 0.3378 - accuracy: 0.8613\n",
            "Epoch 38/100\n",
            "219/219 [==============================] - 0s 2ms/step - loss: 0.3378 - accuracy: 0.8614\n",
            "Epoch 39/100\n",
            "219/219 [==============================] - 0s 2ms/step - loss: 0.3366 - accuracy: 0.8607\n",
            "Epoch 40/100\n",
            "219/219 [==============================] - 0s 2ms/step - loss: 0.3371 - accuracy: 0.8606\n",
            "Epoch 41/100\n",
            "219/219 [==============================] - 1s 2ms/step - loss: 0.3369 - accuracy: 0.8596\n",
            "Epoch 42/100\n",
            "219/219 [==============================] - 0s 2ms/step - loss: 0.3372 - accuracy: 0.8606\n",
            "Epoch 43/100\n",
            "219/219 [==============================] - 0s 2ms/step - loss: 0.3357 - accuracy: 0.8620\n",
            "Epoch 44/100\n",
            "219/219 [==============================] - 0s 2ms/step - loss: 0.3356 - accuracy: 0.8619\n",
            "Epoch 45/100\n",
            "219/219 [==============================] - 0s 2ms/step - loss: 0.3354 - accuracy: 0.8626\n",
            "Epoch 46/100\n",
            "219/219 [==============================] - 0s 2ms/step - loss: 0.3349 - accuracy: 0.8634\n",
            "Epoch 47/100\n",
            "219/219 [==============================] - 0s 2ms/step - loss: 0.3350 - accuracy: 0.8620\n",
            "Epoch 48/100\n",
            "219/219 [==============================] - 0s 2ms/step - loss: 0.3348 - accuracy: 0.8647\n",
            "Epoch 49/100\n",
            "219/219 [==============================] - 0s 2ms/step - loss: 0.3340 - accuracy: 0.8611\n",
            "Epoch 50/100\n",
            "219/219 [==============================] - 0s 2ms/step - loss: 0.3338 - accuracy: 0.8620\n",
            "Epoch 51/100\n",
            "219/219 [==============================] - 0s 2ms/step - loss: 0.3348 - accuracy: 0.8633\n",
            "Epoch 52/100\n",
            "219/219 [==============================] - 0s 2ms/step - loss: 0.3337 - accuracy: 0.8637\n",
            "Epoch 53/100\n",
            "219/219 [==============================] - 1s 2ms/step - loss: 0.3334 - accuracy: 0.8630\n",
            "Epoch 54/100\n",
            "219/219 [==============================] - 0s 2ms/step - loss: 0.3330 - accuracy: 0.8634\n",
            "Epoch 55/100\n",
            "219/219 [==============================] - 0s 2ms/step - loss: 0.3331 - accuracy: 0.8633\n",
            "Epoch 56/100\n",
            "219/219 [==============================] - 0s 2ms/step - loss: 0.3337 - accuracy: 0.8640\n",
            "Epoch 57/100\n",
            "219/219 [==============================] - 0s 2ms/step - loss: 0.3318 - accuracy: 0.8630\n",
            "Epoch 58/100\n",
            "219/219 [==============================] - 0s 2ms/step - loss: 0.3318 - accuracy: 0.8634\n",
            "Epoch 59/100\n",
            "219/219 [==============================] - 0s 2ms/step - loss: 0.3320 - accuracy: 0.8626\n",
            "Epoch 60/100\n",
            "219/219 [==============================] - 1s 2ms/step - loss: 0.3329 - accuracy: 0.8640\n",
            "Epoch 61/100\n",
            "219/219 [==============================] - 0s 2ms/step - loss: 0.3313 - accuracy: 0.8639\n",
            "Epoch 62/100\n",
            "219/219 [==============================] - 0s 2ms/step - loss: 0.3325 - accuracy: 0.8631\n",
            "Epoch 63/100\n",
            "219/219 [==============================] - 0s 2ms/step - loss: 0.3317 - accuracy: 0.8634\n",
            "Epoch 64/100\n",
            "219/219 [==============================] - 0s 2ms/step - loss: 0.3315 - accuracy: 0.8640\n",
            "Epoch 65/100\n",
            "219/219 [==============================] - 0s 2ms/step - loss: 0.3296 - accuracy: 0.8639\n",
            "Epoch 66/100\n",
            "219/219 [==============================] - 0s 2ms/step - loss: 0.3307 - accuracy: 0.8633\n",
            "Epoch 67/100\n",
            "219/219 [==============================] - 0s 2ms/step - loss: 0.3303 - accuracy: 0.8643\n",
            "Epoch 68/100\n",
            "219/219 [==============================] - 0s 2ms/step - loss: 0.3302 - accuracy: 0.8649\n",
            "Epoch 69/100\n",
            "219/219 [==============================] - 0s 2ms/step - loss: 0.3312 - accuracy: 0.8646\n",
            "Epoch 70/100\n",
            "219/219 [==============================] - 1s 2ms/step - loss: 0.3296 - accuracy: 0.8634\n",
            "Epoch 71/100\n",
            "219/219 [==============================] - 0s 2ms/step - loss: 0.3304 - accuracy: 0.8637\n",
            "Epoch 72/100\n",
            "219/219 [==============================] - 1s 2ms/step - loss: 0.3314 - accuracy: 0.8653\n",
            "Epoch 73/100\n",
            "219/219 [==============================] - 0s 2ms/step - loss: 0.3303 - accuracy: 0.8657\n",
            "Epoch 74/100\n",
            "219/219 [==============================] - 0s 2ms/step - loss: 0.3296 - accuracy: 0.8634\n",
            "Epoch 75/100\n",
            "219/219 [==============================] - 0s 2ms/step - loss: 0.3295 - accuracy: 0.8641\n",
            "Epoch 76/100\n",
            "219/219 [==============================] - 0s 2ms/step - loss: 0.3296 - accuracy: 0.8636\n",
            "Epoch 77/100\n",
            "219/219 [==============================] - 0s 2ms/step - loss: 0.3290 - accuracy: 0.8646\n",
            "Epoch 78/100\n",
            "219/219 [==============================] - 0s 2ms/step - loss: 0.3289 - accuracy: 0.8650\n",
            "Epoch 79/100\n",
            "219/219 [==============================] - 0s 2ms/step - loss: 0.3295 - accuracy: 0.8651\n",
            "Epoch 80/100\n",
            "219/219 [==============================] - 0s 2ms/step - loss: 0.3296 - accuracy: 0.8640\n",
            "Epoch 81/100\n",
            "219/219 [==============================] - 0s 2ms/step - loss: 0.3282 - accuracy: 0.8653\n",
            "Epoch 82/100\n",
            "219/219 [==============================] - 0s 2ms/step - loss: 0.3286 - accuracy: 0.8636\n",
            "Epoch 83/100\n",
            "219/219 [==============================] - 1s 2ms/step - loss: 0.3283 - accuracy: 0.8660\n",
            "Epoch 84/100\n",
            "219/219 [==============================] - 0s 2ms/step - loss: 0.3281 - accuracy: 0.8663\n",
            "Epoch 85/100\n",
            "219/219 [==============================] - 1s 2ms/step - loss: 0.3280 - accuracy: 0.8646\n",
            "Epoch 86/100\n",
            "219/219 [==============================] - 0s 2ms/step - loss: 0.3278 - accuracy: 0.8654\n",
            "Epoch 87/100\n",
            "219/219 [==============================] - 0s 2ms/step - loss: 0.3277 - accuracy: 0.8666\n",
            "Epoch 88/100\n",
            "219/219 [==============================] - 0s 2ms/step - loss: 0.3273 - accuracy: 0.8653\n",
            "Epoch 89/100\n",
            "219/219 [==============================] - 0s 2ms/step - loss: 0.3275 - accuracy: 0.8649\n",
            "Epoch 90/100\n",
            "219/219 [==============================] - 0s 2ms/step - loss: 0.3277 - accuracy: 0.8653\n",
            "Epoch 91/100\n",
            "219/219 [==============================] - 0s 2ms/step - loss: 0.3277 - accuracy: 0.8660\n",
            "Epoch 92/100\n",
            "219/219 [==============================] - 0s 2ms/step - loss: 0.3274 - accuracy: 0.8671\n",
            "Epoch 93/100\n",
            "219/219 [==============================] - 0s 2ms/step - loss: 0.3278 - accuracy: 0.8667\n",
            "Epoch 94/100\n",
            "219/219 [==============================] - 0s 2ms/step - loss: 0.3278 - accuracy: 0.8657\n",
            "Epoch 95/100\n",
            "219/219 [==============================] - 0s 2ms/step - loss: 0.3278 - accuracy: 0.8660\n",
            "Epoch 96/100\n",
            "219/219 [==============================] - 0s 2ms/step - loss: 0.3272 - accuracy: 0.8659\n",
            "Epoch 97/100\n",
            "219/219 [==============================] - 0s 2ms/step - loss: 0.3267 - accuracy: 0.8660\n",
            "Epoch 98/100\n",
            "219/219 [==============================] - 0s 2ms/step - loss: 0.3279 - accuracy: 0.8640\n",
            "Epoch 99/100\n",
            "219/219 [==============================] - 0s 2ms/step - loss: 0.3266 - accuracy: 0.8654\n",
            "Epoch 100/100\n",
            "219/219 [==============================] - 1s 2ms/step - loss: 0.3267 - accuracy: 0.8656\n"
          ]
        },
        {
          "output_type": "execute_result",
          "data": {
            "text/plain": [
              "<keras.callbacks.History at 0x7f0fed3eef10>"
            ]
          },
          "metadata": {},
          "execution_count": 43
        }
      ]
    },
    {
      "cell_type": "code",
      "source": [
        "model.evaluate(X_test,Y_test)"
      ],
      "metadata": {
        "colab": {
          "base_uri": "https://localhost:8080/"
        },
        "id": "2O7nGTdjWq5m",
        "outputId": "09745946-3408-45bf-ff63-3995ddf5ebf6"
      },
      "execution_count": null,
      "outputs": [
        {
          "output_type": "stream",
          "name": "stdout",
          "text": [
            "94/94 [==============================] - 1s 3ms/step - loss: 0.3613 - accuracy: 0.8490\n"
          ]
        },
        {
          "output_type": "execute_result",
          "data": {
            "text/plain": [
              "[0.3612632751464844, 0.8489999771118164]"
            ]
          },
          "metadata": {},
          "execution_count": 44
        }
      ]
    },
    {
      "cell_type": "code",
      "source": [
        "YP=model.predict(X_test)"
      ],
      "metadata": {
        "id": "UBepUFT0X7Wi"
      },
      "execution_count": null,
      "outputs": []
    },
    {
      "cell_type": "code",
      "source": [
        "YP[:5]"
      ],
      "metadata": {
        "colab": {
          "base_uri": "https://localhost:8080/"
        },
        "id": "O1Zt2X9OYHzz",
        "outputId": "5f6cd2c9-241d-4136-eaec-dadf94ad1d67"
      },
      "execution_count": null,
      "outputs": [
        {
          "output_type": "execute_result",
          "data": {
            "text/plain": [
              "array([[0.4847635 ],\n",
              "       [0.51454324],\n",
              "       [0.6655292 ],\n",
              "       [0.02246958],\n",
              "       [0.6090035 ]], dtype=float32)"
            ]
          },
          "metadata": {},
          "execution_count": 46
        }
      ]
    },
    {
      "cell_type": "code",
      "source": [
        "y_pred=[]\n",
        "for num in YP:\n",
        "  if num>0.5:\n",
        "    y_pred.append(1)\n",
        "  else:\n",
        "    y_pred.append(0)"
      ],
      "metadata": {
        "id": "8AMq-RuZYK3o"
      },
      "execution_count": null,
      "outputs": []
    },
    {
      "cell_type": "code",
      "source": [
        "y_pred[:10]"
      ],
      "metadata": {
        "colab": {
          "base_uri": "https://localhost:8080/"
        },
        "id": "uOste2mYYOtf",
        "outputId": "e1039388-98ec-46f5-a9c2-d1208db757fa"
      },
      "execution_count": null,
      "outputs": [
        {
          "output_type": "execute_result",
          "data": {
            "text/plain": [
              "[0, 1, 1, 0, 1, 0, 0, 0, 0, 1]"
            ]
          },
          "metadata": {},
          "execution_count": 48
        }
      ]
    },
    {
      "cell_type": "code",
      "source": [
        "from sklearn.metrics import confusion_matrix , classification_report\n",
        "\n",
        "print(classification_report(Y_test,y_pred))\n"
      ],
      "metadata": {
        "colab": {
          "base_uri": "https://localhost:8080/"
        },
        "id": "Wldipbd_YRwe",
        "outputId": "722a0962-d8f8-4d3c-ec25-6b2928919f68"
      },
      "execution_count": null,
      "outputs": [
        {
          "output_type": "stream",
          "name": "stdout",
          "text": [
            "              precision    recall  f1-score   support\n",
            "\n",
            "           0       0.86      0.96      0.91      2380\n",
            "           1       0.75      0.40      0.53       620\n",
            "\n",
            "    accuracy                           0.85      3000\n",
            "   macro avg       0.81      0.68      0.72      3000\n",
            "weighted avg       0.84      0.85      0.83      3000\n",
            "\n"
          ]
        }
      ]
    },
    {
      "cell_type": "code",
      "source": [
        "import seaborn as sn\n",
        "cm = tf.math.confusion_matrix(labels=Y_test,predictions=y_pred)\n",
        "\n",
        "plt.figure(figsize = (10,7))\n",
        "sn.heatmap(cm, annot=True, fmt='d')\n",
        "plt.xlabel('Predicted')\n",
        "plt.ylabel('Truth')"
      ],
      "metadata": {
        "colab": {
          "base_uri": "https://localhost:8080/",
          "height": 459
        },
        "id": "D2SVAT-oYWiy",
        "outputId": "4ed18dd2-b68a-430f-ca13-4ee082cfe02b"
      },
      "execution_count": null,
      "outputs": [
        {
          "output_type": "execute_result",
          "data": {
            "text/plain": [
              "Text(69.0, 0.5, 'Truth')"
            ]
          },
          "metadata": {},
          "execution_count": 50
        },
        {
          "output_type": "display_data",
          "data": {
            "text/plain": [
              "<Figure size 720x504 with 2 Axes>"
            ],
            "image/png": "[encoded data removed]"
          },
          "metadata": {
            "needs_background": "light"
          }
        }
      ]
    },
    {
      "cell_type": "code",
      "source": [
        "round((2296+251)/(2296+84+369+251),2)"
      ],
      "metadata": {
        "colab": {
          "base_uri": "https://localhost:8080/"
        },
        "id": "K67hfnnoYb9l",
        "outputId": "dd2bcbb8-678d-4064-ad57-0783569de8ee"
      },
      "execution_count": null,
      "outputs": [
        {
          "output_type": "execute_result",
          "data": {
            "text/plain": [
              "0.85"
            ]
          },
          "metadata": {},
          "execution_count": 51
        }
      ]
    },
    {
      "cell_type": "code",
      "source": [
        "\n",
        "round(2295/(2295+251),2)"
      ],
      "metadata": {
        "colab": {
          "base_uri": "https://localhost:8080/"
        },
        "id": "8PWbcMFQZPqU",
        "outputId": "b46eeb7f-92b7-434d-90e8-f6a14c663855"
      },
      "execution_count": null,
      "outputs": [
        {
          "output_type": "execute_result",
          "data": {
            "text/plain": [
              "0.9"
            ]
          },
          "metadata": {},
          "execution_count": 52
        }
      ]
    },
    {
      "cell_type": "code",
      "source": [
        "round(251/(251+84),2)"
      ],
      "metadata": {
        "colab": {
          "base_uri": "https://localhost:8080/"
        },
        "id": "W8JFvb4WZhEO",
        "outputId": "496f3461-aeb0-4cc8-afe4-9a29daa9ef9b"
      },
      "execution_count": null,
      "outputs": [
        {
          "output_type": "execute_result",
          "data": {
            "text/plain": [
              "0.75"
            ]
          },
          "metadata": {},
          "execution_count": 53
        }
      ]
    },
    {
      "cell_type": "code",
      "source": [
        ""
      ],
      "metadata": {
        "id": "9U1oVe5pZy17"
      },
      "execution_count": null,
      "outputs": []
    }
  ]
}